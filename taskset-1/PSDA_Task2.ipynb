{
  "nbformat": 4,
  "nbformat_minor": 0,
  "metadata": {
    "colab": {
      "name": "PSDA_Task2.ipynb",
      "provenance": [],
      "collapsed_sections": [],
      "toc_visible": true
    },
    "kernelspec": {
      "name": "python3",
      "display_name": "Python 3"
    }
  },
  "cells": [
    {
      "cell_type": "markdown",
      "metadata": {
        "id": "tKQxKbWMzEv6",
        "colab_type": "text"
      },
      "source": [
        "# Aufgabe 2: Datenexploration, deskriptive Statistik und Ausreißer\n",
        "Analysiert werden soll der Datensatz Bodyfat.csv.  \n",
        "Dieser besteht aus verschiedenen Messungen des Körperumfangs sowie Schätzungen des Körperfettanteils mittels Messung der Körperdichte von 252 Männern.\n",
        "\n",
        "Der Datensatz enthält folgende Variablen:\n",
        "- Density (g/cm³): Körperdichte\n",
        "- Bodyfat (%): Körperfettanteil, geschätzt mittels Siris Gleichung\n",
        "- Age (Jahr)\n",
        "- Height (Zoll, später umgerechnet in cm)\n",
        "- Weight (Pfund, später umgerechnet in kg)\n",
        "- Umfang verschiedener Körperteile in Zentimeter\n",
        "\n",
        "Zu beachten sind insbesondere die unterschiedlichen Einheiten von Körpergröße (Zoll) und Körperteilumfang (Zentimeter)."
      ]
    },
    {
      "cell_type": "code",
      "metadata": {
        "id": "6GzAqsAHBabL",
        "colab_type": "code",
        "outputId": "33ed1a7c-7457-472f-d978-518b43038278",
        "colab": {
          "base_uri": "https://localhost:8080/",
          "height": 51
        }
      },
      "source": [
        "import pandas as pd\n",
        "import seaborn as sns\n",
        "import matplotlib.pyplot as plt"
      ],
      "execution_count": 0,
      "outputs": [
        {
          "output_type": "stream",
          "text": [
            "/usr/local/lib/python3.6/dist-packages/statsmodels/tools/_testing.py:19: FutureWarning: pandas.util.testing is deprecated. Use the functions in the public API at pandas.testing instead.\n",
            "  import pandas.util.testing as tm\n"
          ],
          "name": "stderr"
        }
      ]
    },
    {
      "cell_type": "markdown",
      "metadata": {
        "id": "Ppw9V9FI02SR",
        "colab_type": "text"
      },
      "source": [
        "## Daten Laden und Vorbereiten\n",
        "Die nächste Zelle dient zum Upload des Datensatzes Bodyfat.csv:"
      ]
    },
    {
      "cell_type": "code",
      "metadata": {
        "id": "R2ASpP6o0uIy",
        "colab_type": "code",
        "outputId": "179c1b5e-8bd4-47fa-f1ba-9fdd38ef1ba4",
        "colab": {
          "resources": {
            "http://localhost:8080/nbextensions/google.colab/files.js": {
              "data": "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",
              "ok": true,
              "headers": [
                [
                  "content-type",
                  "application/javascript"
                ]
              ],
              "status": 200,
              "status_text": ""
            }
          },
          "base_uri": "https://localhost:8080/",
          "height": 111
        }
      },
      "source": [
        "from google.colab import files\n",
        "files.upload()"
      ],
      "execution_count": 0,
      "outputs": [
        {
          "output_type": "display_data",
          "data": {
            "text/html": [
              "\n",
              "     <input type=\"file\" id=\"files-90fea0f8-761a-4d56-bd6d-ff92a919f7eb\" name=\"files[]\" multiple disabled />\n",
              "     <output id=\"result-90fea0f8-761a-4d56-bd6d-ff92a919f7eb\">\n",
              "      Upload widget is only available when the cell has been executed in the\n",
              "      current browser session. Please rerun this cell to enable.\n",
              "      </output>\n",
              "      <script src=\"/nbextensions/google.colab/files.js\"></script> "
            ],
            "text/plain": [
              "<IPython.core.display.HTML object>"
            ]
          },
          "metadata": {
            "tags": []
          }
        },
        {
          "output_type": "stream",
          "text": [
            "Saving Bodyfat.csv to Bodyfat.csv\n"
          ],
          "name": "stdout"
        },
        {
          "output_type": "execute_result",
          "data": {
            "text/plain": [
              "{'Bodyfat.csv': b'\"Density\",\"bodyfat\",\"Age\",\"Weight\",\"Height\",\"Neck\",\"Chest\",\"Abdomen\",\"Hip\",\"Thigh\",\"Knee\",\"Ankle\",\"Biceps\",\"Forearm\",\"Wrist\"\\n1.0708,12.3,23,154.25,67.75,36.2,93.1,85.2,94.5,59,37.3,21.9,32,27.4,17.1\\n1.0853,6.1,22,173.25,72.25,38.5,93.6,83,98.7,58.7,37.3,23.4,30.5,28.9,18.2\\n1.0414,25.3,22,154,66.25,34,95.8,87.9,99.2,59.6,38.9,24,28.8,25.2,16.6\\n1.0751,10.4,26,184.75,72.25,37.4,101.8,86.4,101.2,60.1,37.3,22.8,32.4,29.4,18.2\\n1.034,28.7,24,184.25,71.25,34.4,97.3,100,101.9,63.2,42.2,24,32.2,27.7,17.7\\n1.0502,20.9,24,210.25,74.75,39,104.5,94.4,107.8,66,42,25.6,35.7,30.6,18.8\\n1.0549,19.2,26,181,69.75,36.4,105.1,90.7,100.3,58.4,38.3,22.9,31.9,27.8,17.7\\n1.0704,12.4,25,176,72.5,37.8,99.6,88.5,97.1,60,39.4,23.2,30.5,29,18.8\\n1.09,4.1,25,191,74,38.1,100.9,82.5,99.9,62.9,38.3,23.8,35.9,31.1,18.2\\n1.0722,11.7,23,198.25,73.5,42.1,99.6,88.6,104.1,63.1,41.7,25,35.6,30,19.2\\n1.083,7.1,26,186.25,74.5,38.5,101.5,83.6,98.2,59.7,39.7,25.2,32.8,29.4,18.5\\n1.0812,7.8,27,216,76,39.4,103.6,90.9,107.7,66.2,39.2,25.9,37.2,30.2,19\\n1.0513,20.8,32,180.5,69.5,38.4,102,91.6,103.9,63.4,38.3,21.5,32.5,28.6,17.7\\n1.0505,21.2,30,205.25,71.25,39.4,104.1,101.8,108.6,66,41.5,23.7,36.9,31.6,18.8\\n1.0484,22.1,35,187.75,69.5,40.5,101.3,96.4,100.1,69,39,23.1,36.1,30.5,18.2\\n1.0512,20.9,35,162.75,66,36.4,99.1,92.8,99.2,63.1,38.7,21.7,31.1,26.4,16.9\\n1.0333,29,34,195.75,71,38.9,101.9,96.4,105.2,64.8,40.8,23.1,36.2,30.8,17.3\\n1.0468,22.9,32,209.25,71,42.1,107.6,97.5,107,66.9,40,24.4,38.2,31.6,19.3\\n1.0622,16,28,183.75,67.75,38,106.8,89.6,102.4,64.2,38.7,22.9,37.2,30.5,18.5\\n1.061,16.5,33,211.75,73.5,40,106.2,100.5,109,65.8,40.6,24,37.1,30.1,18.2\\n1.0551,19.1,28,179,68,39.1,103.3,95.9,104.9,63.5,38,22.1,32.5,30.3,18.4\\n1.064,15.2,28,200.5,69.75,41.3,111.4,98.8,104.8,63.4,40.6,24.6,33,32.8,19.9\\n1.0631,15.6,31,140.25,68.25,33.9,86,76.4,94.6,57.4,35.3,22.2,27.9,25.9,16.7\\n1.0584,17.7,32,148.75,70,35.5,86.7,80,93.4,54.9,36.2,22.1,29.8,26.7,17.1\\n1.0668,14,28,151.25,67.75,34.5,90.2,76.3,95.8,58.4,35.5,22.9,31.1,28,17.6\\n1.0911,3.7,27,159.25,71.5,35.7,89.6,79.7,96.5,55,36.7,22.5,29.9,28.2,17.7\\n1.0811,7.9,34,131.5,67.5,36.2,88.6,74.6,85.3,51.7,34.7,21.4,28.7,27,16.5\\n1.0468,22.9,31,148,67.5,38.8,97.4,88.7,94.7,57.5,36,21,29.2,26.6,17\\n1.091,3.7,27,133.25,64.75,36.4,93.5,73.9,88.5,50.1,34.5,21.3,30.5,27.9,17.2\\n1.079,8.8,29,160.75,69,36.7,97.4,83.5,98.7,58.9,35.3,22.6,30.1,26.7,17.6\\n1.0716,11.9,32,182,73.75,38.7,100.5,88.7,99.8,57.5,38.7,33.9,32.5,27.7,18.4\\n1.0862,5.7,29,160.25,71.25,37.3,93.5,84.5,100.6,58.5,38.8,21.5,30.1,26.4,17.9\\n1.0719,11.8,27,168,71.25,38.1,93,79.1,94.5,57.3,36.2,24.5,29,30,18.8\\n1.0502,21.3,41,218.5,71,39.8,111.7,100.5,108.3,67.1,44.2,25.2,37.5,31.5,18.7\\n1.0263,32.3,41,247.25,73.5,42.1,117,115.6,116.1,71.2,43.3,26.3,37.3,31.7,19.7\\n1.0101,40.1,49,191.75,65,38.4,118.5,113.1,113.8,61.9,38.3,21.9,32,29.8,17\\n1.0438,24.2,40,202.25,70,38.5,106.5,100.9,106.2,63.5,39.9,22.6,35.1,30.6,19\\n1.0346,28.4,50,196.75,68.25,42.1,105.6,98.8,104.8,66,41.5,24.7,33.2,30.5,19.4\\n1.0202,35.2,46,363.15,72.25,51.2,136.2,148.1,147.7,87.3,49.1,29.6,45,29,21.4\\n1.0258,32.6,50,203,67,40.2,114.8,108.1,102.5,61.3,41.1,24.7,34.1,31,18.3\\n1.0217,34.5,45,262.75,68.75,43.2,128.3,126.2,125.6,72.5,39.6,26.6,36.4,32.7,21.4\\n1.025,32.9,44,205,29.5,36.6,106,104.3,115.5,70.6,42.5,23.7,33.6,28.7,17.4\\n1.0279,31.6,48,217,70,37.3,113.3,111.2,114.1,67.7,40.9,25,36.7,29.8,18.4\\n1.0269,32,41,212,71.5,41.5,106.6,104.3,106,65,40.2,23,35.8,31.5,18.8\\n1.0814,7.7,39,125.25,68,31.5,85.1,76,88.2,50,34.7,21,26.1,23.1,16.1\\n1.067,13.9,43,164.25,73.25,35.7,96.6,81.5,97.2,58.4,38.2,23.4,29.7,27.4,18.3\\n1.0742,10.8,40,133.5,67.5,33.6,88.2,73.7,88.5,53.3,34.5,22.5,27.9,26.2,17.3\\n1.0665,5.6,39,148.5,71.25,34.6,89.8,79.5,92.7,52.7,37.5,21.9,28.8,26.8,17.9\\n1.0678,13.6,45,135.75,68.5,32.8,92.3,83.4,90.4,52,35.8,20.6,28.8,25.5,16.3\\n1.0903,4,47,127.5,66.75,34,83.4,70.4,87.2,50.6,34.4,21.9,26.8,25.8,16.8\\n1.0756,10.2,47,158.25,72.25,34.9,90.2,86.7,98.3,52.6,37.2,22.4,26,25.8,17.3\\n1.084,6.6,40,139.25,69,34.3,89.2,77.9,91,51.4,34.9,21,26.7,26.1,17.2\\n1.0807,8,51,137.25,67.75,36.5,89.7,82,89.1,49.3,33.7,21.4,29.6,26,16.9\\n1.0848,6.3,49,152.75,73.5,35.1,93.3,79.6,91.6,52.6,37.6,22.6,38.5,27.4,18.5\\n1.0906,3.9,42,136.25,67.5,37.8,87.6,77.6,88.6,51.9,34.9,22.5,27.7,27.5,18.5\\n1.0473,22.6,54,198,72,39.9,107.6,100,99.6,57.2,38,22,35.9,30.2,18.9\\n1.0524,20.4,58,181.5,68,39.1,100,99.8,102.5,62.1,39.6,22.5,33.1,28.3,18.5\\n1.0356,28,62,201.25,69.5,40.5,111.5,104.2,105.8,61.8,39.8,22.7,37.7,30.9,19.2\\n1.028,31.5,54,202.5,70.75,40.5,115.4,105.3,97,59.1,38,22.5,31.6,28.8,18.2\\n1.043,24.6,61,179.75,65.75,38.4,104.8,98.3,99.6,60.6,37.7,22.9,34.5,29.6,18.5\\n1.0396,26.1,62,216,73.25,41.4,112.3,104.8,103.1,61.6,40.9,23.1,36.2,31.8,20.2\\n1.0317,29.8,56,178.75,68.5,35.6,102.9,94.7,100.8,60.9,38,22.1,32.5,29.8,18.3\\n1.0298,30.7,54,193.25,70.25,38,107.6,102.4,99.4,61,39.4,23.6,32.7,29.9,19.1\\n1.0403,25.8,61,178,67,37.4,105.3,99.7,99.7,60.8,40.1,22.7,33.6,29,18.8\\n1.0264,32.3,57,205.5,70,40.1,105.3,105.5,108.3,65,41.2,24.7,35.3,31.1,18.4\\n1.0313,30,55,183.5,67.5,40.9,103,100.3,104.2,64.8,40.2,22.7,34.8,30.1,18.7\\n1.0499,21.5,54,151.5,70.75,35.6,90,83.9,93.9,55,36.1,21.7,29.6,27.4,17.4\\n1.0673,13.8,55,154.75,71.5,36.9,95.4,86.6,91.8,54.3,35.4,21.5,32.8,27.4,18.7\\n1.0847,6.3,54,155.25,69.25,37.5,89.3,78.4,96.1,56,37.4,22.4,32.6,28.1,18.1\\n1.0693,12.9,55,156.75,71.5,36.3,94.4,84.6,94.3,51.2,37.4,21.6,27.3,27.1,17.3\\n1.0439,24.3,62,167.5,71.5,35.5,97.6,91.5,98.5,56.6,38.6,22.4,31.5,27.3,18.6\\n1.0788,8.8,55,146.75,68.75,38.7,88.5,82.8,95.5,58.9,37.6,21.6,30.3,27.3,18.3\\n1.0796,8.5,56,160.75,73.75,36.4,93.6,82.9,96.3,52.9,37.5,23.1,29.7,27.3,18.2\\n1.068,13.5,55,125,64,33.2,87.7,76,88.6,50.9,35.4,19.1,29.3,25.7,16.9\\n1.072,11.8,61,143,65.75,36.5,93.4,83.3,93,55.5,35.2,20.9,29.4,27,16.8\\n1.0666,18.5,61,148.25,67.5,36,91.6,81.8,94.8,54.5,37,21.4,29.3,27,18.3\\n1.079,8.8,57,162.5,69.5,38.7,91.6,78.8,94.3,56.7,39.7,24.2,30.2,29.2,18.1\\n1.0483,22.2,69,177.75,68.5,38.7,102,95,98.3,55,38.3,21.8,30.8,25.7,18.8\\n1.0498,21.5,81,161.25,70.25,37.8,96.4,95.4,99.3,53.5,37.5,21.5,31.4,26.8,18.3\\n1.056,18.8,66,171.25,69.25,37.4,102.7,98.6,100.2,56.5,39.3,22.7,30.3,28.7,19\\n1.0283,31.4,67,163.75,67.75,38.4,97.7,95.8,97.1,54.8,38.2,23.7,29.4,27.2,19\\n1.0382,26.8,64,150.25,67.25,38.1,97.1,89,96.9,54.8,38,22,29.9,25.2,17.7\\n1.0568,18.4,64,190.25,72.75,39.3,103.1,97.8,99.6,58.9,39,23,34.3,29.6,19\\n1.0377,27,70,170.75,70,38.7,101.8,94.9,95,56,36.5,24.1,31.2,27.3,19.2\\n1.0378,27,72,168,69.25,38.5,101.4,99.8,96.2,56.3,36.6,22,29.7,26.3,18\\n1.0386,26.6,67,167,67.5,36.5,98.9,89.7,96.2,54.7,37.8,33.7,32.4,27.7,18.2\\n1.0648,14.9,72,157.75,67.25,37.7,97.5,88.1,96.9,57.2,37.7,21.8,32.6,28,18.8\\n1.0462,23.1,64,160,65.75,36.5,104.3,90.9,93.8,57.8,39.5,23.3,29.2,28.4,18.1\\n1.08,8.3,46,176.75,72.5,38,97.3,86,99.3,61,38.4,23.8,30.2,29.3,18.8\\n1.0666,14.1,48,176,73,36.7,96.7,86.5,98.3,60.4,39.9,24.4,28.8,29.6,18.7\\n1.052,20.5,46,177,70,37.2,99.7,95.6,102.2,58.3,38.2,22.5,29.1,27.7,17.7\\n1.0573,18.2,44,179.75,69.5,39.2,101.9,93.2,100.6,58.9,39.7,23.1,31.4,28.4,18.8\\n1.0795,8.5,47,165.25,70.5,37.5,97.2,83.1,95.4,56.9,38.3,22.1,30.1,28.2,18.4\\n1.0424,24.9,46,192.5,71.75,38,106.6,97.5,100.6,58.9,40.5,24.5,33.3,29.6,19.1\\n1.0785,9,47,184.25,74.5,37.3,99.6,88.8,101.4,57.4,39.6,24.6,30.3,27.9,17.8\\n1.0991,17.4,53,224.5,77.75,41.1,113.2,99.2,107.5,61.7,42.3,23.2,32.9,30.8,20.4\\n1.077,9.6,38,188.75,73.25,37.5,99.1,91.6,102.4,60.6,39.4,22.9,31.6,30.1,18.5\\n1.073,11.3,50,162.5,66.5,38.7,99.4,86.7,96.2,62.1,39.3,23.3,30.6,27.8,18.2\\n1.0582,17.8,46,156.5,68.25,35.9,95.1,88.2,92.8,54.7,37.3,21.9,31.6,27.5,18.2\\n1.0484,22.2,47,197,72,40,107.5,94,103.7,62.7,39,22.3,35.3,30.9,18.3\\n1.0506,21.2,49,198.5,73.5,40.1,106.5,95,101.7,59,39.4,22.3,32.2,31,18.6\\n1.0524,20.4,48,173.75,72,37,99.1,92,98.3,59.3,38.4,22.4,27.9,26.2,17\\n1.053,20.1,41,172.75,71.25,36.3,96.7,89.2,98.3,60,38.4,23.2,31,29.2,18.4\\n1.048,22.3,49,196.75,73.75,40.7,103.5,95.5,101.6,59.1,39.8,25.4,31,30.3,19.7\\n1.0412,25.4,43,177,69.25,39.6,104,98.6,99.5,59.5,36.1,22,30.1,27.2,17.7\\n1.0578,18,43,165.5,68.5,31.1,93.1,87.3,96.6,54.7,39,24.8,31,29.4,18.8\\n1.0547,19.3,43,200.25,73.5,38.6,105.2,102.8,103.6,61.2,39.3,23.5,30.5,28.5,18.1\\n1.0569,18.3,52,203.25,74.25,42,110,101.6,100.7,55.8,38.7,23.4,35.1,29.6,19.1\\n1.0593,17.3,43,194,75.5,38.5,110.1,88.7,102.1,57.5,40,24.8,35.1,30.7,19.2\\n1.05,21.4,40,168.5,69.25,34.2,97.8,92.3,100.6,57.5,36.8,22.8,32.1,26,17.3\\n1.0538,19.7,43,170.75,68.5,37.2,96.3,90.6,99.3,61.9,38,22.3,33.3,28.2,18.1\\n1.0355,28,43,183.25,70,37.1,108,105,103,63.7,40,23.6,33.5,27.8,17.4\\n1.0486,22.1,47,178.25,70,40.2,99.7,95,98.6,62.3,38.1,23.9,35.3,31.1,19.8\\n1.0503,21.3,42,163,70.25,35.3,93.5,89.6,99.8,61.5,37.8,21.9,30.7,27.6,17.4\\n1.0384,26.7,48,175.25,71.75,38,100.7,92.4,97.5,59.3,38.1,21.8,31.8,27.3,17.5\\n1.0607,16.7,40,158,69.25,36.3,97,86.6,92.6,55.9,36.3,22.1,29.8,26.3,17.3\\n1.0529,20.1,48,177.25,72.75,36.8,96,90,99.7,58.8,38.4,22.8,29.9,28,18.1\\n1.0671,13.9,51,179,72,41,99.2,90,96.4,56.8,38.8,23.3,33.4,29.8,19.5\\n1.0404,25.8,40,191,74,38.3,95.4,92.4,104.3,64.6,41.1,24.8,33.6,29.5,18.5\\n1.0575,18.1,44,187.5,72.25,38,101.8,87.5,101,58.5,39.2,24.5,32.1,28.6,18\\n1.0358,27.9,52,206.5,74.5,40.8,104.3,99.2,104.1,58.5,39.3,24.6,33.9,31.2,19.5\\n1.0414,25.3,44,185.25,71.5,39.5,99.2,98.1,101.4,57.1,40.5,23.2,33,29.6,18.4\\n1.0652,14.7,40,160.25,68.75,36.9,99.3,83.3,97.5,60.5,38.7,22.6,34.4,28,17.6\\n1.0623,16,47,151.5,66.75,36.9,94,86.1,95.2,58.1,36.5,22.1,30.6,27.5,17.6\\n1.0674,13.8,50,161,66.5,37.7,98.9,84.1,94,58.5,36.6,23.5,34.4,29.2,18\\n1.0587,17.5,46,167,67,36.6,101,89.9,100,60.7,36,21.9,35.6,30.2,17.6\\n1.0373,27.2,42,177.5,68.75,38.9,98.7,92.1,98.5,60.7,36.8,22.2,33.8,30.3,17.2\\n1.059,17.4,43,152.25,67.75,37.5,95.9,78,93.2,53.5,35.8,20.8,33.9,28.2,17.4\\n1.0515,20.8,40,192.25,73.25,39.8,103.9,93.5,99.5,61.7,39,21.8,33.3,29.6,18.1\\n1.0648,14.9,42,165.25,69.75,38.3,96.2,87,97.8,57.4,36.9,22.2,31.6,27.8,17.7\\n1.0575,18.1,49,171.75,71.5,35.5,97.8,90.1,95.8,57,38.7,23.2,27.5,26.5,17.6\\n1.0472,22.7,40,171.25,70.5,36.3,94.6,90.3,99.1,60.3,38.5,23,31.2,28.4,17.1\\n1.0452,23.6,47,197,73.25,37.8,103.6,99.8,103.2,61.2,38.1,22.6,33.5,28.6,17.9\\n1.0398,26.1,50,157,66.75,37.8,100.4,89.4,92.3,56.1,35.6,20.5,33.6,29.3,17.3\\n1.0435,24.4,41,168.25,69.5,36.5,98.4,87.2,98.4,56,36.9,23,34,29.8,18.1\\n1.0374,27.1,44,186,69.75,37.8,104.6,101.1,102.1,58.9,37.9,22.7,30.9,28.8,17.6\\n1.0491,21.8,39,166.75,70.75,37,92.9,86.1,95.6,58.8,36.1,22.4,32.7,28.3,17.1\\n1.0325,29.4,43,187.75,74,37.7,97.8,98.6,100.6,63.6,39.2,23.8,34.3,28.4,17.7\\n1.0481,22.4,40,168.25,71.25,34.3,98.3,88.5,98.3,58.1,38.4,22.5,31.7,27.4,17.6\\n1.0522,20.4,49,212.75,75,40.8,104.7,106.6,107.7,66.5,42.5,24.5,35.5,29.8,18.7\\n1.0422,24.9,40,176.75,71,37.4,98.6,93.1,101.6,59.1,39.6,21.6,30.8,27.9,16.6\\n1.0571,18.3,40,173.25,69.5,36.5,99.5,93,99.3,60.4,38.2,22,32,28.5,17.8\\n1.0459,23.3,52,167,67.75,37.5,102.7,91,98.9,57.1,36.7,22.3,31.6,27.5,17.9\\n1.0775,9.4,23,159.75,72.25,35.5,92.1,77.1,93.9,56.1,36.1,22.7,30.5,27.2,18.2\\n1.0754,10.3,23,188.15,77.5,38,96.6,85.3,102.5,59.1,37.6,23.2,31.8,29.7,18.3\\n1.0664,14.2,24,156,70.75,35.7,92.7,81.9,95.3,56.4,36.5,22,33.5,28.3,17.3\\n1.055,19.2,24,208.5,72.75,39.2,102,99.1,110.1,71.2,43.5,25.2,36.1,30.3,18.7\\n1.0322,29.6,25,206.5,69.75,40.9,110.9,100.5,106.2,68.4,40.8,24.6,33.3,29.7,18.4\\n1.0873,5.3,25,143.75,72.5,35.2,92.3,76.5,92.1,51.9,35.7,22,25.8,25.2,16.9\\n1.0416,25.2,26,223,70.25,40.6,114.1,106.8,113.9,67.6,42.7,24.7,36,30.4,18.4\\n1.0776,9.4,26,152.25,69,35.4,92.9,77.6,93.5,56.9,35.9,20.4,31.6,29,17.8\\n1.0542,19.6,26,241.75,74.5,41.8,108.3,102.9,114.4,72.9,43.5,25.1,38.5,33.8,19.6\\n1.0758,10.1,27,146,72.25,34.1,88.5,72.8,91.1,53.6,36.8,23.8,27.8,26.3,17.4\\n1.061,16.5,27,156.75,67.25,37.9,94,88.2,95.2,56.8,37.4,22.8,30.6,28.3,17.9\\n1.051,21,27,200.25,73.5,38.2,101.1,100.1,105,62.1,40,24.9,33.7,29.2,19.4\\n1.0594,17.3,28,171.5,75.25,35.6,92.1,83.5,98.3,57.3,37.8,21.7,32.2,27.7,17.7\\n1.0287,31.2,28,205.75,69,38.5,105.6,105,106.4,68.6,40,25.2,35.2,30.7,19.1\\n1.0761,10,28,182.5,72.25,37,98.5,90.8,102.5,60.8,38.5,25,31.6,28,18.6\\n1.0704,12.5,30,136.5,68.75,35.9,88.7,76.6,89.8,50.1,34.8,21.8,27,34.9,16.9\\n1.0477,22.5,31,177.25,71.5,36.2,101.1,92.4,99.3,59.4,39,24.6,30.1,28.2,18.2\\n1.0775,9.4,31,151.25,72.25,35,94,81.2,91.5,52.5,36.6,21,27,26.3,16.5\\n1.0653,14.6,33,196,73,38.5,103.8,95.6,105.1,61.4,40.6,25,31.3,29.2,19.1\\n1.069,13,33,184.25,68.75,40.7,98.9,92.1,103.5,64,37.3,23.5,33.5,30.6,19.7\\n1.0644,15.1,34,140,70.5,36,89.2,83.4,89.6,52.4,35.6,20.4,28.3,26.2,16.5\\n1.037,27.3,34,218.75,72,39.5,111.4,106,108.8,63.8,42,23.4,34,31.2,18.5\\n1.0549,19.2,35,217,73.75,40.5,107.5,95.1,104.5,64.8,41.3,25.6,36.4,33.7,19.4\\n1.0492,21.8,35,166.25,68,38.5,99.1,90.4,95.6,55.5,34.2,21.9,30.2,28.7,17.7\\n1.0525,20.3,35,224.75,72.25,43.9,108.2,100.4,106.8,63.3,41.7,24.6,37.2,33.1,19.8\\n1.018,34.3,35,228.25,69.5,40.4,114.9,115.9,111.9,74.4,40.6,24,36.1,31.8,18.8\\n1.061,16.5,35,172.75,69.5,37.6,99.1,90.8,98.1,60.1,39.1,23.4,32.5,29.8,17.4\\n1.0926,3,35,152.25,67.75,37,92.2,81.9,92.8,54.7,36.2,22.1,30.4,27.4,17.7\\n1.0983,0.7,35,125.75,65.5,34,90.8,75,89.2,50,34.8,22,24.8,25.9,16.9\\n1.0521,20.5,35,177.25,71,38.4,100.5,90.3,98.7,57.8,37.3,22.4,31,28.7,17.7\\n1.0603,16.9,36,176.25,71.5,38.7,98.2,90.3,99.9,59.2,37.7,21.5,32.4,28.4,17.8\\n1.0414,25.3,36,226.75,71.75,41.5,115.3,108.8,114.4,69.2,42.4,24,35.4,21,20.1\\n1.0763,9.9,37,145.25,69.25,36,96.8,79.4,89.2,50.3,34.8,22.2,31,26.9,16.9\\n1.0689,13.1,37,151,67,35.3,92.6,83.2,96.4,60,38.1,22,31.5,26.6,16.7\\n1.0316,29.9,37,241.25,71.5,42.1,119.2,110.3,113.9,69.8,42.6,24.8,34.4,29.5,18.4\\n1.0477,22.5,38,187.25,69.25,38,102.7,92.7,101.9,64.7,39.5,24.7,34.8,30.3,18.1\\n1.0603,16.9,39,234.75,74.5,42.8,109.5,104.5,109.9,69.5,43.1,25.8,39.1,32.5,19.9\\n1.0387,26.6,39,219.25,74.25,40,108.5,104.6,109.8,68.1,42.8,24.1,35.6,29,19\\n1.1089,0,40,118.5,68,33.8,79.3,69.4,85,47.2,33.5,20.2,27.7,24.6,16.5\\n1.0725,11.5,40,145.75,67.25,35.5,95.5,83.6,91.6,54.1,36.2,21.8,31.4,28.3,17.2\\n1.0713,12.1,40,159.25,69.75,35.3,92.3,86.8,96.1,58,39.4,22.7,30,26.4,17.4\\n1.0587,17.5,40,170.5,74.25,37.7,98.9,90.4,95.5,55.4,38.9,22.4,30.5,28.9,17.7\\n1.0794,8.6,40,167.5,71.5,39.4,89.5,83.7,98.1,57.3,39.7,22.6,32.9,29.3,18.2\\n1.0453,23.6,41,232.75,74.25,41.9,117.5,109.3,108.8,67.7,41.3,24.7,37.2,31.8,20\\n1.0524,20.4,41,210.5,72,38.5,107.4,98.9,104.1,63.5,39.8,23.5,36.4,30.4,19.1\\n1.052,20.5,41,202.25,72.5,40.8,109.2,98,101.8,62.8,41.3,24.8,36.6,32.4,18.8\\n1.0434,24.4,41,185,68.25,38,103.4,101.2,103.1,61.5,40.4,22.9,33.4,29.2,18.5\\n1.0728,11.4,41,153,69.25,36.4,91.4,80.6,92.3,54.3,36.3,21.8,29.6,27.3,17.9\\n1.014,38.1,42,244.25,76,41.8,115.2,113.7,112.4,68.5,45,25.5,37.1,31.2,19.9\\n1.0624,15.9,42,193.5,70.5,40.7,104.9,94.1,102.7,60.6,38.6,24.7,34,30.1,18.7\\n1.0429,24.7,42,224.75,74.75,38.5,106.7,105.7,111.8,65.3,43.3,26,33.7,29.9,18.5\\n1.047,22.8,42,162.75,72.75,35.4,92.2,85.6,96.5,60.2,38.9,22.4,31.7,27.1,17.1\\n1.0411,25.5,42,180,68.25,38.5,101.6,96.6,100.6,61.1,38.4,24.1,32.9,29.8,18.8\\n1.0488,22,42,156.25,69,35.5,97.8,86,96.2,57.7,38.6,24,31.2,27.3,17.4\\n1.0583,17.7,42,168,71.5,36.5,92,89.7,101,62.3,38,22.3,30.8,27.8,16.9\\n1.0841,6.6,42,167.25,72.75,37.6,94,78,99,57.5,40,22.5,30.6,30,18.5\\n1.0462,23.6,43,170.75,67.5,37.4,103.7,89.7,94.2,58.5,39,24.1,33.8,28.8,18.8\\n1.0709,12.2,43,178.25,70.25,37.8,102.7,89.2,99.2,60.2,39.2,23.8,31.7,28.4,18.6\\n1.0484,22.1,43,150,69.25,35.2,91.1,85.7,96.9,55.5,35.7,22,29.4,26.6,17.4\\n1.034,28.7,43,200.5,71.5,37.9,107.2,103.1,105.5,68.8,38.3,23.7,32.1,28.9,18.7\\n1.0854,6,44,184,74,37.9,100.8,89.1,102.6,60.6,39,24,32.9,29.2,18.4\\n1.0209,34.8,44,223,69.75,40.9,121.6,113.9,107.1,63.5,40.3,21.8,34.8,30.7,17.4\\n1.061,16.6,44,208.75,73,41.9,105.6,96.3,102,63.3,39.8,24.1,37.3,23.1,19.4\\n1.025,32.9,44,166,65.5,39.1,100.6,93.9,100.1,58.9,37.6,21.4,33.1,29.5,17.3\\n1.0254,32.8,47,195,72.5,40.2,102.7,101.3,101.7,60.7,39.4,23.3,36.7,31.6,18.4\\n1.0771,9.6,47,160.5,70.25,36,99.8,83.9,91.8,53,36.2,22.5,31.4,27.5,17.7\\n1.0742,10.8,47,159.75,70.75,34.5,92.9,84.4,94,56,38.2,22.6,29,26.2,17.6\\n1.0829,7.1,49,140.5,68,35.8,91.2,79.4,89,51.1,35,21.7,30.9,28.8,17.4\\n1.0373,27.2,49,216.25,74.5,40.2,115.6,104,109,63.7,40.3,23.2,36.8,31,18.9\\n1.0543,19.5,49,168.25,71.75,38.3,98.3,89.7,99.1,56.3,38.8,23,29.5,27.9,18.6\\n1.0561,18.7,50,194.75,70.75,39,103.7,97.6,104.2,60,40.9,25.5,32.7,30,19\\n1.0543,19.5,50,172.75,73,37.4,98.7,87.6,96.1,57.1,38.1,21.8,28.6,26.7,18\\n0.995,47.5,51,219,64,41.2,119.8,122.1,112.8,62.5,36.9,23.6,34.7,29.1,18.4\\n1.0678,13.6,51,149.25,69.75,34.8,92.8,81.1,96.3,53.8,36.5,21.5,31.3,26.3,17.8\\n1.0819,7.5,51,154.5,70,36.9,93.3,81.5,94.4,54.7,39,22.6,27.5,25.9,18.6\\n1.0433,24.5,52,199.25,71.75,39.4,106.8,100,105,63.9,39.2,22.9,35.7,30.4,19.2\\n1.0646,15,53,154.5,69.25,37.6,93.9,88.7,94.5,53.7,36.2,22,28.5,25.7,17.1\\n1.0706,12.4,54,153.25,70.5,38.5,99,91.8,96.2,57.7,38.1,23.9,31.4,29.9,18.9\\n1.0399,26,54,230,72.25,42.5,119.9,110.4,105.5,64.2,42.7,27,38.4,32,19.6\\n1.0726,11.5,54,161.75,67.5,37.4,94.2,87.6,95.6,59.7,40.2,23.4,27.9,27,17.8\\n1.0874,5.2,55,142.25,67.25,35.2,92.7,82.8,91.9,54.4,35.2,22.5,29.4,26.8,17\\n1.074,10.9,55,179.75,68.75,41.1,106.9,95.3,98.2,57.4,37.1,21.8,34.1,31.1,19.2\\n1.0703,12.5,55,126.5,66.75,33.4,88.8,78.2,87.5,50.8,33,19.7,25.3,22,15.8\\n1.065,14.8,55,169.5,68.25,37.2,101.7,91.1,97.1,56.6,38.5,22.6,33.4,29.3,18.8\\n1.0418,25.2,55,198.5,74.25,38.3,105.3,96.7,106.6,64,42.6,23.4,33.2,30,18.4\\n1.0647,14.9,56,174.5,69.5,38.1,104,89.4,98.4,58.4,37.4,22.5,34.6,30.1,18.8\\n1.0601,17,56,167.75,68.5,37.4,98.6,93,97,55.4,38.8,23.2,32.4,29.7,19\\n1.0745,10.6,57,147.75,65.75,35.2,99.6,86.4,90.1,53,35,21.3,31.7,27.3,16.9\\n1.062,16.1,57,182.25,71.75,39.4,103.4,96.7,100.7,59.3,38.6,22.8,31.8,29.1,19\\n1.0636,15.4,58,175.5,71.5,38,100.2,88.1,97.8,57.1,38.9,23.6,30.9,29.6,18\\n1.0384,26.7,58,161.75,67.25,35.1,94.9,94.9,100.2,56.8,35.9,21,27.8,26.1,17.6\\n1.0403,25.8,60,157.75,67.5,40.4,97.2,93.3,94,54.3,35.7,21,31.3,28.7,18.3\\n1.0563,18.6,62,168.75,67.5,38.3,104.7,95.6,93.7,54.4,37.1,22.7,30.3,26.3,18.3\\n1.0424,24.8,62,191.5,72.25,40.6,104,98.2,101.1,59.3,40.3,23,32.6,28.5,19\\n1.0372,27.3,63,219.15,69.5,40.2,117.6,113.8,111.8,63.4,41.1,22.3,35.1,29.6,18.5\\n1.0705,12.4,64,155.25,69.5,37.9,95.8,82.8,94.5,61.2,39.1,22.3,29.8,28.9,18.3\\n1.0316,29.9,65,189.75,65.75,40.8,106.4,100.5,100.5,59.2,38.1,24,35.9,30.5,19.1\\n1.0599,17,65,127.5,65.75,34.7,93,79.7,87.6,50.7,33.4,20.1,28.5,24.8,16.5\\n1.0207,35,65,224.5,68.25,38.8,119.6,118,114.3,61.3,42.1,23.4,34.9,30.1,19.4\\n1.0304,30.4,66,234.25,72,41.4,119.7,109,109.1,63.7,42.4,24.6,35.6,30.7,19.5\\n1.0256,32.6,67,227.75,72.75,41.3,115.8,113.4,109.8,65.6,46,25.4,35.3,29.8,19.5\\n1.0334,29,67,199.5,68.5,40.7,118.3,106.1,101.6,58.2,38.8,24.1,32.1,29.3,18.5\\n1.0641,15.2,68,155.5,69.25,36.3,97.4,84.3,94.4,54.3,37.5,22.6,29.2,27.3,18.5\\n1.0308,30.2,69,215.5,70.5,40.8,113.7,107.6,110,63.3,44,22.6,37.5,32.6,18.8\\n1.0736,11,70,134.25,67,34.9,89.2,83.6,88.8,49.6,34.8,21.5,25.6,25.7,18.5\\n1.0236,33.6,72,201,69.75,40.9,108.5,105,104.5,59.6,40.8,23.2,35.2,28.6,20.1\\n1.0328,29.3,72,186.75,66,38.9,111.1,111.5,101.7,60.3,37.3,21.5,31.3,27.2,18\\n1.0399,26,72,190.75,70.5,38.9,108.3,101.3,97.8,56,41.6,22.7,30.5,29.4,19.8\\n1.0271,31.9,74,207.5,70,40.8,112.4,108.5,107.1,59.3,42.2,24.6,33.7,30,20.9\\n'}"
            ]
          },
          "metadata": {
            "tags": []
          },
          "execution_count": 3
        }
      ]
    },
    {
      "cell_type": "markdown",
      "metadata": {
        "id": "iMk8azdN2LsE",
        "colab_type": "text"
      },
      "source": [
        "Nach dem Einlesen des Datensatzes konvertieren wir die Werte Körpergröße und Gewicht in metrische Einheiten, um diese als Europäer intuitiv verstehen zu können."
      ]
    },
    {
      "cell_type": "code",
      "metadata": {
        "id": "_CefjS-TCIE0",
        "colab_type": "code",
        "outputId": "f583057c-1e4b-4174-b27c-f1f6e1ed4286",
        "colab": {
          "base_uri": "https://localhost:8080/",
          "height": 419
        }
      },
      "source": [
        "data = pd.read_csv(\"Bodyfat.csv\")\n",
        "data['Height'] *= 2.54   # Convert Height to cm\n",
        "data['Weight'] *= 0.454  # Convert Weight to kg\n",
        "\n",
        "data"
      ],
      "execution_count": 0,
      "outputs": [
        {
          "output_type": "execute_result",
          "data": {
            "text/html": [
              "<div>\n",
              "<style scoped>\n",
              "    .dataframe tbody tr th:only-of-type {\n",
              "        vertical-align: middle;\n",
              "    }\n",
              "\n",
              "    .dataframe tbody tr th {\n",
              "        vertical-align: top;\n",
              "    }\n",
              "\n",
              "    .dataframe thead th {\n",
              "        text-align: right;\n",
              "    }\n",
              "</style>\n",
              "<table border=\"1\" class=\"dataframe\">\n",
              "  <thead>\n",
              "    <tr style=\"text-align: right;\">\n",
              "      <th></th>\n",
              "      <th>Density</th>\n",
              "      <th>bodyfat</th>\n",
              "      <th>Age</th>\n",
              "      <th>Weight</th>\n",
              "      <th>Height</th>\n",
              "      <th>Neck</th>\n",
              "      <th>Chest</th>\n",
              "      <th>Abdomen</th>\n",
              "      <th>Hip</th>\n",
              "      <th>Thigh</th>\n",
              "      <th>Knee</th>\n",
              "      <th>Ankle</th>\n",
              "      <th>Biceps</th>\n",
              "      <th>Forearm</th>\n",
              "      <th>Wrist</th>\n",
              "    </tr>\n",
              "  </thead>\n",
              "  <tbody>\n",
              "    <tr>\n",
              "      <th>0</th>\n",
              "      <td>1.0708</td>\n",
              "      <td>12.3</td>\n",
              "      <td>23</td>\n",
              "      <td>70.0295</td>\n",
              "      <td>172.085</td>\n",
              "      <td>36.2</td>\n",
              "      <td>93.1</td>\n",
              "      <td>85.2</td>\n",
              "      <td>94.5</td>\n",
              "      <td>59.0</td>\n",
              "      <td>37.3</td>\n",
              "      <td>21.9</td>\n",
              "      <td>32.0</td>\n",
              "      <td>27.4</td>\n",
              "      <td>17.1</td>\n",
              "    </tr>\n",
              "    <tr>\n",
              "      <th>1</th>\n",
              "      <td>1.0853</td>\n",
              "      <td>6.1</td>\n",
              "      <td>22</td>\n",
              "      <td>78.6555</td>\n",
              "      <td>183.515</td>\n",
              "      <td>38.5</td>\n",
              "      <td>93.6</td>\n",
              "      <td>83.0</td>\n",
              "      <td>98.7</td>\n",
              "      <td>58.7</td>\n",
              "      <td>37.3</td>\n",
              "      <td>23.4</td>\n",
              "      <td>30.5</td>\n",
              "      <td>28.9</td>\n",
              "      <td>18.2</td>\n",
              "    </tr>\n",
              "    <tr>\n",
              "      <th>2</th>\n",
              "      <td>1.0414</td>\n",
              "      <td>25.3</td>\n",
              "      <td>22</td>\n",
              "      <td>69.9160</td>\n",
              "      <td>168.275</td>\n",
              "      <td>34.0</td>\n",
              "      <td>95.8</td>\n",
              "      <td>87.9</td>\n",
              "      <td>99.2</td>\n",
              "      <td>59.6</td>\n",
              "      <td>38.9</td>\n",
              "      <td>24.0</td>\n",
              "      <td>28.8</td>\n",
              "      <td>25.2</td>\n",
              "      <td>16.6</td>\n",
              "    </tr>\n",
              "    <tr>\n",
              "      <th>3</th>\n",
              "      <td>1.0751</td>\n",
              "      <td>10.4</td>\n",
              "      <td>26</td>\n",
              "      <td>83.8765</td>\n",
              "      <td>183.515</td>\n",
              "      <td>37.4</td>\n",
              "      <td>101.8</td>\n",
              "      <td>86.4</td>\n",
              "      <td>101.2</td>\n",
              "      <td>60.1</td>\n",
              "      <td>37.3</td>\n",
              "      <td>22.8</td>\n",
              "      <td>32.4</td>\n",
              "      <td>29.4</td>\n",
              "      <td>18.2</td>\n",
              "    </tr>\n",
              "    <tr>\n",
              "      <th>4</th>\n",
              "      <td>1.0340</td>\n",
              "      <td>28.7</td>\n",
              "      <td>24</td>\n",
              "      <td>83.6495</td>\n",
              "      <td>180.975</td>\n",
              "      <td>34.4</td>\n",
              "      <td>97.3</td>\n",
              "      <td>100.0</td>\n",
              "      <td>101.9</td>\n",
              "      <td>63.2</td>\n",
              "      <td>42.2</td>\n",
              "      <td>24.0</td>\n",
              "      <td>32.2</td>\n",
              "      <td>27.7</td>\n",
              "      <td>17.7</td>\n",
              "    </tr>\n",
              "    <tr>\n",
              "      <th>...</th>\n",
              "      <td>...</td>\n",
              "      <td>...</td>\n",
              "      <td>...</td>\n",
              "      <td>...</td>\n",
              "      <td>...</td>\n",
              "      <td>...</td>\n",
              "      <td>...</td>\n",
              "      <td>...</td>\n",
              "      <td>...</td>\n",
              "      <td>...</td>\n",
              "      <td>...</td>\n",
              "      <td>...</td>\n",
              "      <td>...</td>\n",
              "      <td>...</td>\n",
              "      <td>...</td>\n",
              "    </tr>\n",
              "    <tr>\n",
              "      <th>247</th>\n",
              "      <td>1.0736</td>\n",
              "      <td>11.0</td>\n",
              "      <td>70</td>\n",
              "      <td>60.9495</td>\n",
              "      <td>170.180</td>\n",
              "      <td>34.9</td>\n",
              "      <td>89.2</td>\n",
              "      <td>83.6</td>\n",
              "      <td>88.8</td>\n",
              "      <td>49.6</td>\n",
              "      <td>34.8</td>\n",
              "      <td>21.5</td>\n",
              "      <td>25.6</td>\n",
              "      <td>25.7</td>\n",
              "      <td>18.5</td>\n",
              "    </tr>\n",
              "    <tr>\n",
              "      <th>248</th>\n",
              "      <td>1.0236</td>\n",
              "      <td>33.6</td>\n",
              "      <td>72</td>\n",
              "      <td>91.2540</td>\n",
              "      <td>177.165</td>\n",
              "      <td>40.9</td>\n",
              "      <td>108.5</td>\n",
              "      <td>105.0</td>\n",
              "      <td>104.5</td>\n",
              "      <td>59.6</td>\n",
              "      <td>40.8</td>\n",
              "      <td>23.2</td>\n",
              "      <td>35.2</td>\n",
              "      <td>28.6</td>\n",
              "      <td>20.1</td>\n",
              "    </tr>\n",
              "    <tr>\n",
              "      <th>249</th>\n",
              "      <td>1.0328</td>\n",
              "      <td>29.3</td>\n",
              "      <td>72</td>\n",
              "      <td>84.7845</td>\n",
              "      <td>167.640</td>\n",
              "      <td>38.9</td>\n",
              "      <td>111.1</td>\n",
              "      <td>111.5</td>\n",
              "      <td>101.7</td>\n",
              "      <td>60.3</td>\n",
              "      <td>37.3</td>\n",
              "      <td>21.5</td>\n",
              "      <td>31.3</td>\n",
              "      <td>27.2</td>\n",
              "      <td>18.0</td>\n",
              "    </tr>\n",
              "    <tr>\n",
              "      <th>250</th>\n",
              "      <td>1.0399</td>\n",
              "      <td>26.0</td>\n",
              "      <td>72</td>\n",
              "      <td>86.6005</td>\n",
              "      <td>179.070</td>\n",
              "      <td>38.9</td>\n",
              "      <td>108.3</td>\n",
              "      <td>101.3</td>\n",
              "      <td>97.8</td>\n",
              "      <td>56.0</td>\n",
              "      <td>41.6</td>\n",
              "      <td>22.7</td>\n",
              "      <td>30.5</td>\n",
              "      <td>29.4</td>\n",
              "      <td>19.8</td>\n",
              "    </tr>\n",
              "    <tr>\n",
              "      <th>251</th>\n",
              "      <td>1.0271</td>\n",
              "      <td>31.9</td>\n",
              "      <td>74</td>\n",
              "      <td>94.2050</td>\n",
              "      <td>177.800</td>\n",
              "      <td>40.8</td>\n",
              "      <td>112.4</td>\n",
              "      <td>108.5</td>\n",
              "      <td>107.1</td>\n",
              "      <td>59.3</td>\n",
              "      <td>42.2</td>\n",
              "      <td>24.6</td>\n",
              "      <td>33.7</td>\n",
              "      <td>30.0</td>\n",
              "      <td>20.9</td>\n",
              "    </tr>\n",
              "  </tbody>\n",
              "</table>\n",
              "<p>252 rows × 15 columns</p>\n",
              "</div>"
            ],
            "text/plain": [
              "     Density  bodyfat  Age   Weight  ...  Ankle  Biceps  Forearm  Wrist\n",
              "0     1.0708     12.3   23  70.0295  ...   21.9    32.0     27.4   17.1\n",
              "1     1.0853      6.1   22  78.6555  ...   23.4    30.5     28.9   18.2\n",
              "2     1.0414     25.3   22  69.9160  ...   24.0    28.8     25.2   16.6\n",
              "3     1.0751     10.4   26  83.8765  ...   22.8    32.4     29.4   18.2\n",
              "4     1.0340     28.7   24  83.6495  ...   24.0    32.2     27.7   17.7\n",
              "..       ...      ...  ...      ...  ...    ...     ...      ...    ...\n",
              "247   1.0736     11.0   70  60.9495  ...   21.5    25.6     25.7   18.5\n",
              "248   1.0236     33.6   72  91.2540  ...   23.2    35.2     28.6   20.1\n",
              "249   1.0328     29.3   72  84.7845  ...   21.5    31.3     27.2   18.0\n",
              "250   1.0399     26.0   72  86.6005  ...   22.7    30.5     29.4   19.8\n",
              "251   1.0271     31.9   74  94.2050  ...   24.6    33.7     30.0   20.9\n",
              "\n",
              "[252 rows x 15 columns]"
            ]
          },
          "metadata": {
            "tags": []
          },
          "execution_count": 11
        }
      ]
    },
    {
      "cell_type": "markdown",
      "metadata": {
        "id": "smKoVfme7mXb",
        "colab_type": "text"
      },
      "source": [
        "## Deskriptive Statistik\n",
        "\n",
        "Wir berechnen zunächst folgende Statisitken:\n",
        "- Durchschnitt (gibt die zentrale Tendenz der Verteilung an)\n",
        "- Median (gibt den mittleren Wert im Datensatz an)\n",
        "- Quantil\n",
        "- Modus (gibt den/die am häufigsten auftretenden Wert an)\n",
        "- Spannweite\n",
        "\n",
        "Zusätzlich berechnen wir:\n",
        "- Standardabweichung (gibt die Streuung der Verteilung an)\n",
        "- Paarweise empirische Korrelation (lineare Zusammenhänge zwischen einzelnen Variablen)\n",
        "\n",
        "Die folgende Tabelle zeigt Durchschnitt (Mean), Median (0.5-Quantil), 0.25-Quantil und 0.75-Quantil sowie Standardabweichung (std):"
      ]
    },
    {
      "cell_type": "code",
      "metadata": {
        "id": "Oll7z8T2Ec4A",
        "colab_type": "code",
        "outputId": "61f7afec-5030-436f-b624-010b27f71f86",
        "colab": {
          "base_uri": "https://localhost:8080/",
          "height": 297
        }
      },
      "source": [
        "data.describe()"
      ],
      "execution_count": 0,
      "outputs": [
        {
          "output_type": "execute_result",
          "data": {
            "text/html": [
              "<div>\n",
              "<style scoped>\n",
              "    .dataframe tbody tr th:only-of-type {\n",
              "        vertical-align: middle;\n",
              "    }\n",
              "\n",
              "    .dataframe tbody tr th {\n",
              "        vertical-align: top;\n",
              "    }\n",
              "\n",
              "    .dataframe thead th {\n",
              "        text-align: right;\n",
              "    }\n",
              "</style>\n",
              "<table border=\"1\" class=\"dataframe\">\n",
              "  <thead>\n",
              "    <tr style=\"text-align: right;\">\n",
              "      <th></th>\n",
              "      <th>Density</th>\n",
              "      <th>bodyfat</th>\n",
              "      <th>Age</th>\n",
              "      <th>Weight</th>\n",
              "      <th>Height</th>\n",
              "      <th>Neck</th>\n",
              "      <th>Chest</th>\n",
              "      <th>Abdomen</th>\n",
              "      <th>Hip</th>\n",
              "      <th>Thigh</th>\n",
              "      <th>Knee</th>\n",
              "      <th>Ankle</th>\n",
              "      <th>Biceps</th>\n",
              "      <th>Forearm</th>\n",
              "      <th>Wrist</th>\n",
              "    </tr>\n",
              "  </thead>\n",
              "  <tbody>\n",
              "    <tr>\n",
              "      <th>count</th>\n",
              "      <td>252.000000</td>\n",
              "      <td>252.000000</td>\n",
              "      <td>252.000000</td>\n",
              "      <td>252.000000</td>\n",
              "      <td>252.000000</td>\n",
              "      <td>252.000000</td>\n",
              "      <td>252.000000</td>\n",
              "      <td>252.000000</td>\n",
              "      <td>252.000000</td>\n",
              "      <td>252.000000</td>\n",
              "      <td>252.000000</td>\n",
              "      <td>252.000000</td>\n",
              "      <td>252.000000</td>\n",
              "      <td>252.000000</td>\n",
              "      <td>252.000000</td>\n",
              "    </tr>\n",
              "    <tr>\n",
              "      <th>mean</th>\n",
              "      <td>1.055574</td>\n",
              "      <td>19.150794</td>\n",
              "      <td>44.884921</td>\n",
              "      <td>81.231680</td>\n",
              "      <td>178.177976</td>\n",
              "      <td>37.992063</td>\n",
              "      <td>100.824206</td>\n",
              "      <td>92.555952</td>\n",
              "      <td>99.904762</td>\n",
              "      <td>59.405952</td>\n",
              "      <td>38.590476</td>\n",
              "      <td>23.102381</td>\n",
              "      <td>32.273413</td>\n",
              "      <td>28.663889</td>\n",
              "      <td>18.229762</td>\n",
              "    </tr>\n",
              "    <tr>\n",
              "      <th>std</th>\n",
              "      <td>0.019031</td>\n",
              "      <td>8.368740</td>\n",
              "      <td>12.602040</td>\n",
              "      <td>13.342679</td>\n",
              "      <td>9.303654</td>\n",
              "      <td>2.430913</td>\n",
              "      <td>8.430476</td>\n",
              "      <td>10.783077</td>\n",
              "      <td>7.164058</td>\n",
              "      <td>5.249952</td>\n",
              "      <td>2.411805</td>\n",
              "      <td>1.694893</td>\n",
              "      <td>3.021274</td>\n",
              "      <td>2.020691</td>\n",
              "      <td>0.933585</td>\n",
              "    </tr>\n",
              "    <tr>\n",
              "      <th>min</th>\n",
              "      <td>0.995000</td>\n",
              "      <td>0.000000</td>\n",
              "      <td>22.000000</td>\n",
              "      <td>53.799000</td>\n",
              "      <td>74.930000</td>\n",
              "      <td>31.100000</td>\n",
              "      <td>79.300000</td>\n",
              "      <td>69.400000</td>\n",
              "      <td>85.000000</td>\n",
              "      <td>47.200000</td>\n",
              "      <td>33.000000</td>\n",
              "      <td>19.100000</td>\n",
              "      <td>24.800000</td>\n",
              "      <td>21.000000</td>\n",
              "      <td>15.800000</td>\n",
              "    </tr>\n",
              "    <tr>\n",
              "      <th>25%</th>\n",
              "      <td>1.041400</td>\n",
              "      <td>12.475000</td>\n",
              "      <td>35.750000</td>\n",
              "      <td>72.186000</td>\n",
              "      <td>173.355000</td>\n",
              "      <td>36.400000</td>\n",
              "      <td>94.350000</td>\n",
              "      <td>84.575000</td>\n",
              "      <td>95.500000</td>\n",
              "      <td>56.000000</td>\n",
              "      <td>36.975000</td>\n",
              "      <td>22.000000</td>\n",
              "      <td>30.200000</td>\n",
              "      <td>27.300000</td>\n",
              "      <td>17.600000</td>\n",
              "    </tr>\n",
              "    <tr>\n",
              "      <th>50%</th>\n",
              "      <td>1.054900</td>\n",
              "      <td>19.200000</td>\n",
              "      <td>43.000000</td>\n",
              "      <td>80.131000</td>\n",
              "      <td>177.800000</td>\n",
              "      <td>38.000000</td>\n",
              "      <td>99.650000</td>\n",
              "      <td>90.950000</td>\n",
              "      <td>99.300000</td>\n",
              "      <td>59.000000</td>\n",
              "      <td>38.500000</td>\n",
              "      <td>22.800000</td>\n",
              "      <td>32.050000</td>\n",
              "      <td>28.700000</td>\n",
              "      <td>18.300000</td>\n",
              "    </tr>\n",
              "    <tr>\n",
              "      <th>75%</th>\n",
              "      <td>1.070400</td>\n",
              "      <td>25.300000</td>\n",
              "      <td>54.000000</td>\n",
              "      <td>89.438000</td>\n",
              "      <td>183.515000</td>\n",
              "      <td>39.425000</td>\n",
              "      <td>105.375000</td>\n",
              "      <td>99.325000</td>\n",
              "      <td>103.525000</td>\n",
              "      <td>62.350000</td>\n",
              "      <td>39.925000</td>\n",
              "      <td>24.000000</td>\n",
              "      <td>34.325000</td>\n",
              "      <td>30.000000</td>\n",
              "      <td>18.800000</td>\n",
              "    </tr>\n",
              "    <tr>\n",
              "      <th>max</th>\n",
              "      <td>1.108900</td>\n",
              "      <td>47.500000</td>\n",
              "      <td>81.000000</td>\n",
              "      <td>164.870100</td>\n",
              "      <td>197.485000</td>\n",
              "      <td>51.200000</td>\n",
              "      <td>136.200000</td>\n",
              "      <td>148.100000</td>\n",
              "      <td>147.700000</td>\n",
              "      <td>87.300000</td>\n",
              "      <td>49.100000</td>\n",
              "      <td>33.900000</td>\n",
              "      <td>45.000000</td>\n",
              "      <td>34.900000</td>\n",
              "      <td>21.400000</td>\n",
              "    </tr>\n",
              "  </tbody>\n",
              "</table>\n",
              "</div>"
            ],
            "text/plain": [
              "          Density     bodyfat         Age  ...      Biceps     Forearm       Wrist\n",
              "count  252.000000  252.000000  252.000000  ...  252.000000  252.000000  252.000000\n",
              "mean     1.055574   19.150794   44.884921  ...   32.273413   28.663889   18.229762\n",
              "std      0.019031    8.368740   12.602040  ...    3.021274    2.020691    0.933585\n",
              "min      0.995000    0.000000   22.000000  ...   24.800000   21.000000   15.800000\n",
              "25%      1.041400   12.475000   35.750000  ...   30.200000   27.300000   17.600000\n",
              "50%      1.054900   19.200000   43.000000  ...   32.050000   28.700000   18.300000\n",
              "75%      1.070400   25.300000   54.000000  ...   34.325000   30.000000   18.800000\n",
              "max      1.108900   47.500000   81.000000  ...   45.000000   34.900000   21.400000\n",
              "\n",
              "[8 rows x 15 columns]"
            ]
          },
          "metadata": {
            "tags": []
          },
          "execution_count": 7
        }
      ]
    },
    {
      "cell_type": "markdown",
      "metadata": {
        "id": "tMYmMhF3CVas",
        "colab_type": "text"
      },
      "source": [
        "Die Spannweite kann als Differenz zwischen dem größten und kleinsten Wert berechnet werden:"
      ]
    },
    {
      "cell_type": "code",
      "metadata": {
        "id": "94Sk4LnKAfac",
        "colab_type": "code",
        "outputId": "b62df15e-d19f-443e-bece-a2a3f8f0edf2",
        "colab": {
          "base_uri": "https://localhost:8080/",
          "height": 289
        }
      },
      "source": [
        "data.max() - data.min()"
      ],
      "execution_count": 0,
      "outputs": [
        {
          "output_type": "execute_result",
          "data": {
            "text/plain": [
              "Density      0.1139\n",
              "bodyfat     47.5000\n",
              "Age         59.0000\n",
              "Weight     111.0711\n",
              "Height     122.5550\n",
              "Neck        20.1000\n",
              "Chest       56.9000\n",
              "Abdomen     78.7000\n",
              "Hip         62.7000\n",
              "Thigh       40.1000\n",
              "Knee        16.1000\n",
              "Ankle       14.8000\n",
              "Biceps      20.2000\n",
              "Forearm     13.9000\n",
              "Wrist        5.6000\n",
              "dtype: float64"
            ]
          },
          "metadata": {
            "tags": []
          },
          "execution_count": 8
        }
      ]
    },
    {
      "cell_type": "code",
      "metadata": {
        "id": "dhZfTUG7CiDu",
        "colab_type": "code",
        "outputId": "3584909f-b1e3-4eb3-baee-ff87aa0043f9",
        "colab": {
          "base_uri": "https://localhost:8080/",
          "height": 328
        }
      },
      "source": [
        "data.mode()"
      ],
      "execution_count": 0,
      "outputs": [
        {
          "output_type": "execute_result",
          "data": {
            "text/html": [
              "<div>\n",
              "<style scoped>\n",
              "    .dataframe tbody tr th:only-of-type {\n",
              "        vertical-align: middle;\n",
              "    }\n",
              "\n",
              "    .dataframe tbody tr th {\n",
              "        vertical-align: top;\n",
              "    }\n",
              "\n",
              "    .dataframe thead th {\n",
              "        text-align: right;\n",
              "    }\n",
              "</style>\n",
              "<table border=\"1\" class=\"dataframe\">\n",
              "  <thead>\n",
              "    <tr style=\"text-align: right;\">\n",
              "      <th></th>\n",
              "      <th>Density</th>\n",
              "      <th>bodyfat</th>\n",
              "      <th>Age</th>\n",
              "      <th>Weight</th>\n",
              "      <th>Height</th>\n",
              "      <th>Neck</th>\n",
              "      <th>Chest</th>\n",
              "      <th>Abdomen</th>\n",
              "      <th>Hip</th>\n",
              "      <th>Thigh</th>\n",
              "      <th>Knee</th>\n",
              "      <th>Ankle</th>\n",
              "      <th>Biceps</th>\n",
              "      <th>Forearm</th>\n",
              "      <th>Wrist</th>\n",
              "    </tr>\n",
              "  </thead>\n",
              "  <tbody>\n",
              "    <tr>\n",
              "      <th>0</th>\n",
              "      <td>1.061</td>\n",
              "      <td>20.4</td>\n",
              "      <td>40.0</td>\n",
              "      <td>69.1215</td>\n",
              "      <td>181.61</td>\n",
              "      <td>38.5</td>\n",
              "      <td>99.1</td>\n",
              "      <td>88.7</td>\n",
              "      <td>98.3</td>\n",
              "      <td>58.9</td>\n",
              "      <td>39.0</td>\n",
              "      <td>22.0</td>\n",
              "      <td>30.5</td>\n",
              "      <td>27.3</td>\n",
              "      <td>18.8</td>\n",
              "    </tr>\n",
              "    <tr>\n",
              "      <th>1</th>\n",
              "      <td>NaN</td>\n",
              "      <td>NaN</td>\n",
              "      <td>NaN</td>\n",
              "      <td>75.8180</td>\n",
              "      <td>NaN</td>\n",
              "      <td>NaN</td>\n",
              "      <td>102.7</td>\n",
              "      <td>89.7</td>\n",
              "      <td>NaN</td>\n",
              "      <td>NaN</td>\n",
              "      <td>NaN</td>\n",
              "      <td>22.5</td>\n",
              "      <td>31.6</td>\n",
              "      <td>29.6</td>\n",
              "      <td>NaN</td>\n",
              "    </tr>\n",
              "    <tr>\n",
              "      <th>2</th>\n",
              "      <td>NaN</td>\n",
              "      <td>NaN</td>\n",
              "      <td>NaN</td>\n",
              "      <td>76.2720</td>\n",
              "      <td>NaN</td>\n",
              "      <td>NaN</td>\n",
              "      <td>NaN</td>\n",
              "      <td>100.5</td>\n",
              "      <td>NaN</td>\n",
              "      <td>NaN</td>\n",
              "      <td>NaN</td>\n",
              "      <td>22.6</td>\n",
              "      <td>NaN</td>\n",
              "      <td>29.8</td>\n",
              "      <td>NaN</td>\n",
              "    </tr>\n",
              "    <tr>\n",
              "      <th>3</th>\n",
              "      <td>NaN</td>\n",
              "      <td>NaN</td>\n",
              "      <td>NaN</td>\n",
              "      <td>76.3855</td>\n",
              "      <td>NaN</td>\n",
              "      <td>NaN</td>\n",
              "      <td>NaN</td>\n",
              "      <td>NaN</td>\n",
              "      <td>NaN</td>\n",
              "      <td>NaN</td>\n",
              "      <td>NaN</td>\n",
              "      <td>NaN</td>\n",
              "      <td>NaN</td>\n",
              "      <td>NaN</td>\n",
              "      <td>NaN</td>\n",
              "    </tr>\n",
              "    <tr>\n",
              "      <th>4</th>\n",
              "      <td>NaN</td>\n",
              "      <td>NaN</td>\n",
              "      <td>NaN</td>\n",
              "      <td>77.5205</td>\n",
              "      <td>NaN</td>\n",
              "      <td>NaN</td>\n",
              "      <td>NaN</td>\n",
              "      <td>NaN</td>\n",
              "      <td>NaN</td>\n",
              "      <td>NaN</td>\n",
              "      <td>NaN</td>\n",
              "      <td>NaN</td>\n",
              "      <td>NaN</td>\n",
              "      <td>NaN</td>\n",
              "      <td>NaN</td>\n",
              "    </tr>\n",
              "    <tr>\n",
              "      <th>5</th>\n",
              "      <td>NaN</td>\n",
              "      <td>NaN</td>\n",
              "      <td>NaN</td>\n",
              "      <td>78.4285</td>\n",
              "      <td>NaN</td>\n",
              "      <td>NaN</td>\n",
              "      <td>NaN</td>\n",
              "      <td>NaN</td>\n",
              "      <td>NaN</td>\n",
              "      <td>NaN</td>\n",
              "      <td>NaN</td>\n",
              "      <td>NaN</td>\n",
              "      <td>NaN</td>\n",
              "      <td>NaN</td>\n",
              "      <td>NaN</td>\n",
              "    </tr>\n",
              "    <tr>\n",
              "      <th>6</th>\n",
              "      <td>NaN</td>\n",
              "      <td>NaN</td>\n",
              "      <td>NaN</td>\n",
              "      <td>80.4715</td>\n",
              "      <td>NaN</td>\n",
              "      <td>NaN</td>\n",
              "      <td>NaN</td>\n",
              "      <td>NaN</td>\n",
              "      <td>NaN</td>\n",
              "      <td>NaN</td>\n",
              "      <td>NaN</td>\n",
              "      <td>NaN</td>\n",
              "      <td>NaN</td>\n",
              "      <td>NaN</td>\n",
              "      <td>NaN</td>\n",
              "    </tr>\n",
              "    <tr>\n",
              "      <th>7</th>\n",
              "      <td>NaN</td>\n",
              "      <td>NaN</td>\n",
              "      <td>NaN</td>\n",
              "      <td>81.6065</td>\n",
              "      <td>NaN</td>\n",
              "      <td>NaN</td>\n",
              "      <td>NaN</td>\n",
              "      <td>NaN</td>\n",
              "      <td>NaN</td>\n",
              "      <td>NaN</td>\n",
              "      <td>NaN</td>\n",
              "      <td>NaN</td>\n",
              "      <td>NaN</td>\n",
              "      <td>NaN</td>\n",
              "      <td>NaN</td>\n",
              "    </tr>\n",
              "    <tr>\n",
              "      <th>8</th>\n",
              "      <td>NaN</td>\n",
              "      <td>NaN</td>\n",
              "      <td>NaN</td>\n",
              "      <td>83.6495</td>\n",
              "      <td>NaN</td>\n",
              "      <td>NaN</td>\n",
              "      <td>NaN</td>\n",
              "      <td>NaN</td>\n",
              "      <td>NaN</td>\n",
              "      <td>NaN</td>\n",
              "      <td>NaN</td>\n",
              "      <td>NaN</td>\n",
              "      <td>NaN</td>\n",
              "      <td>NaN</td>\n",
              "      <td>NaN</td>\n",
              "    </tr>\n",
              "  </tbody>\n",
              "</table>\n",
              "</div>"
            ],
            "text/plain": [
              "   Density  bodyfat   Age   Weight  Height  ...  Knee  Ankle  Biceps  Forearm  Wrist\n",
              "0    1.061     20.4  40.0  69.1215  181.61  ...  39.0   22.0    30.5     27.3   18.8\n",
              "1      NaN      NaN   NaN  75.8180     NaN  ...   NaN   22.5    31.6     29.6    NaN\n",
              "2      NaN      NaN   NaN  76.2720     NaN  ...   NaN   22.6     NaN     29.8    NaN\n",
              "3      NaN      NaN   NaN  76.3855     NaN  ...   NaN    NaN     NaN      NaN    NaN\n",
              "4      NaN      NaN   NaN  77.5205     NaN  ...   NaN    NaN     NaN      NaN    NaN\n",
              "5      NaN      NaN   NaN  78.4285     NaN  ...   NaN    NaN     NaN      NaN    NaN\n",
              "6      NaN      NaN   NaN  80.4715     NaN  ...   NaN    NaN     NaN      NaN    NaN\n",
              "7      NaN      NaN   NaN  81.6065     NaN  ...   NaN    NaN     NaN      NaN    NaN\n",
              "8      NaN      NaN   NaN  83.6495     NaN  ...   NaN    NaN     NaN      NaN    NaN\n",
              "\n",
              "[9 rows x 15 columns]"
            ]
          },
          "metadata": {
            "tags": []
          },
          "execution_count": 9
        }
      ]
    },
    {
      "cell_type": "code",
      "metadata": {
        "id": "o8AzMH3bDiR6",
        "colab_type": "code",
        "outputId": "410cda6d-9e5b-40d5-9d56-5f0c2468e275",
        "colab": {
          "base_uri": "https://localhost:8080/",
          "height": 221
        }
      },
      "source": [
        "data['Weight'].value_counts()"
      ],
      "execution_count": 0,
      "outputs": [
        {
          "output_type": "execute_result",
          "data": {
            "text/plain": [
              "76.3855    3\n",
              "78.4285    3\n",
              "75.8180    3\n",
              "77.5205    3\n",
              "69.1215    3\n",
              "          ..\n",
              "74.5695    1\n",
              "67.5325    1\n",
              "67.3055    1\n",
              "84.1035    1\n",
              "56.7500    1\n",
              "Name: Weight, Length: 197, dtype: int64"
            ]
          },
          "metadata": {
            "tags": []
          },
          "execution_count": 11
        }
      ]
    },
    {
      "cell_type": "markdown",
      "metadata": {
        "id": "RrDrva11qVty",
        "colab_type": "text"
      },
      "source": [
        "Wir visualisieren die Verteilung der einzelnen Variablen in Boxplots:"
      ]
    },
    {
      "cell_type": "code",
      "metadata": {
        "id": "hox4HQ35Ey4l",
        "colab_type": "code",
        "outputId": "c7fb753b-12d4-408d-e930-173e7ccd0fa9",
        "colab": {
          "base_uri": "https://localhost:8080/",
          "height": 367
        }
      },
      "source": [
        "data[[\"Density\", \"bodyfat\", \"Age\", \"Weight\", \"Height\"]].plot.box(figsize=(10, 4), subplots=True)"
      ],
      "execution_count": 0,
      "outputs": [
        {
          "output_type": "execute_result",
          "data": {
            "text/plain": [
              "Density       AxesSubplot(0.125,0.125;0.133621x0.755)\n",
              "bodyfat    AxesSubplot(0.285345,0.125;0.133621x0.755)\n",
              "Age         AxesSubplot(0.44569,0.125;0.133621x0.755)\n",
              "Weight     AxesSubplot(0.606034,0.125;0.133621x0.755)\n",
              "Height     AxesSubplot(0.766379,0.125;0.133621x0.755)\n",
              "dtype: object"
            ]
          },
          "metadata": {
            "tags": []
          },
          "execution_count": 12
        },
        {
          "output_type": "display_data",
          "data": {
            "image/png": "[encoded data removed]",
            "text/plain": [
              "<Figure size 720x288 with 5 Axes>"
            ]
          },
          "metadata": {
            "tags": [],
            "needs_background": "light"
          }
        }
      ]
    },
    {
      "cell_type": "code",
      "metadata": {
        "id": "yHbhvmmAy3to",
        "colab_type": "code",
        "outputId": "724f1dc3-3e08-4439-9780-3bd3b94f43d0",
        "colab": {
          "base_uri": "https://localhost:8080/",
          "height": 282
        }
      },
      "source": [
        "data.iloc[:, 6:9].plot.box()"
      ],
      "execution_count": 0,
      "outputs": [
        {
          "output_type": "execute_result",
          "data": {
            "text/plain": [
              "<matplotlib.axes._subplots.AxesSubplot at 0x7fbb16c629b0>"
            ]
          },
          "metadata": {
            "tags": []
          },
          "execution_count": 23
        },
        {
          "output_type": "display_data",
          "data": {
            "image/png": "[encoded data removed]",
            "text/plain": [
              "<Figure size 432x288 with 1 Axes>"
            ]
          },
          "metadata": {
            "tags": [],
            "needs_background": "light"
          }
        }
      ]
    },
    {
      "cell_type": "code",
      "metadata": {
        "id": "TbXbTPHy-fpn",
        "colab_type": "code",
        "outputId": "ce525f31-79ed-4899-d66d-bb7257df33f4",
        "colab": {
          "base_uri": "https://localhost:8080/",
          "height": 286
        }
      },
      "source": [
        "data.iloc[:, 9:11].plot.box()"
      ],
      "execution_count": 0,
      "outputs": [
        {
          "output_type": "execute_result",
          "data": {
            "text/plain": [
              "<matplotlib.axes._subplots.AxesSubplot at 0x7fbb16373eb8>"
            ]
          },
          "metadata": {
            "tags": []
          },
          "execution_count": 26
        },
        {
          "output_type": "display_data",
          "data": {
            "image/png": "[encoded data removed]",
            "text/plain": [
              "<Figure size 432x288 with 1 Axes>"
            ]
          },
          "metadata": {
            "tags": [],
            "needs_background": "light"
          }
        }
      ]
    },
    {
      "cell_type": "code",
      "metadata": {
        "id": "nHoHaOT3_bTB",
        "colab_type": "code",
        "outputId": "705f36db-8929-4875-e314-c4d773bb1f78",
        "colab": {
          "base_uri": "https://localhost:8080/",
          "height": 282
        }
      },
      "source": [
        "data.iloc[:, 11:].plot.box()"
      ],
      "execution_count": 0,
      "outputs": [
        {
          "output_type": "execute_result",
          "data": {
            "text/plain": [
              "<matplotlib.axes._subplots.AxesSubplot at 0x7fbb162a77b8>"
            ]
          },
          "metadata": {
            "tags": []
          },
          "execution_count": 27
        },
        {
          "output_type": "display_data",
          "data": {
            "image/png": "[encoded data removed]",
            "text/plain": [
              "<Figure size 432x288 with 1 Axes>"
            ]
          },
          "metadata": {
            "tags": [],
            "needs_background": "light"
          }
        }
      ]
    },
    {
      "cell_type": "markdown",
      "metadata": {
        "id": "iSggcNeAgyWT",
        "colab_type": "text"
      },
      "source": [
        "Die paarweise empirische Korrelation (lineare Abhängigkeit) visualisieren wir in einer Heatmap:"
      ]
    },
    {
      "cell_type": "code",
      "metadata": {
        "id": "cDBdb1hZ_k6X",
        "colab_type": "code",
        "outputId": "51f0105a-43e2-47a9-9bd2-a90009f5100c",
        "colab": {
          "base_uri": "https://localhost:8080/",
          "height": 633
        }
      },
      "source": [
        "corrMatrix = data.corr()\n",
        "fig, ax = plt.subplots(figsize=(10,10))\n",
        "cmap = sns.diverging_palette(220, 10, as_cmap=True)\n",
        "sns.heatmap(corrMatrix, annot=True, cmap=cmap)\n",
        "plt.show()"
      ],
      "execution_count": 0,
      "outputs": [
        {
          "output_type": "display_data",
          "data": {
            "image/png": "[encoded data removed]",
            "text/plain": [
              "<Figure size 720x720 with 2 Axes>"
            ]
          },
          "metadata": {
            "tags": [],
            "needs_background": "light"
          }
        }
      ]
    },
    {
      "cell_type": "markdown",
      "metadata": {
        "id": "qh_SRybtoYlF",
        "colab_type": "text"
      },
      "source": [
        "Es ist deutlich zu erkennen, dass zwischen den einzelnen Körperteil-Umfängen wie zu erwarten eine deutliche Korrelation besteht. Auch zum Gewicht besteht hier ein deutlicher Zusammenhang.  \n",
        "Das Alter hat hingegen nur schwache Zusammenhänge mit den restlichen Variablen.  \n",
        "Der Körperfettanteil korreliert insbesondere mit dem Bauchumfang, Hüftumfang und dem Gewicht, außerdem besteht ein starker negativer Zusammenhang zur Körperdichte."
      ]
    },
    {
      "cell_type": "markdown",
      "metadata": {
        "id": "wQfQXymVIjgE",
        "colab_type": "text"
      },
      "source": [
        "## Ausreißer (Outlier)\n",
        "\n",
        "Outlier sind Datenpunkte, die sich signifikant von anderen Beobachtungen unterscheiden.  \n",
        "Im Wesentlichen werden zwei Typen von Ausreißern unterschieden: Datenfehler und wahre Ausreißer.\n",
        "Datenfehler können unter anderem durch Messfehler, Variabilität in den Messungen oder generelle Fehler im experimentellen Aufbau entstehen.\n",
        "Wahre Ausreißer sind tatsächlich Teil der Population und können z.B. durch Populationen mit schweren Rändern oder Messungen aus einer Mischung mehrerer Verteilungen entstehen, aber selbst bei einer Normalverteilung sind sie durch reinen Zufall möglich.\n",
        "\n",
        "Als Ausreißer werden in der Statistik häufig alle Werte angesehen, die mehr als 1,5 Mal den Quartilsabstand über dem oberen Quartil bzw. unter dem unteren Quartil liegen (siehe z.B. Norbert Henze, Stochastik für Einsteiger, S. 33).\n",
        "\n",
        "Die Ausreißer in unserem vorliegenden Datensatz kann man in den Boxplots sehen: Die Whisker zeigen den Wertebereich aller normalen Beobachtungen, die Kreise stehen für vereinzelte Ausreißer-Datenpunkte.\n",
        "\n",
        "Ausreißer können die Analyse-Ergebnisse von nicht robusten Statistiken verfälschen und damit zu fehlerhaften Aussagen über die Population führen.\n",
        "Median, Quantile und Modus sind Statistiken, die robust gegen Ausreißer sind (da der konkrete Messwert von Ausreißern nicht in die Berechnungen mit eingeht, sondern nur die Auswahl des Wertes beeinflusst).  \n",
        "Durchschnitt, Spannweite, Standardabweichung und paarweise empirische Korrelation sind hingegen nicht robust gegen Ausreißer, da hier die entsprechenden Werte direkt die Berechnung beeinflussen.\n",
        "\n",
        "Auch bei Vorhersagemodellen wie z.B. einem Regressionsmodell können Outlier zu Problemen führen: Da diese nicht den eigentlich zu modellierenden Zusammenhängen entsprechen, können sie die Parameter der Modelle verfälschen, wenn diese Daten bei der Modellbildung mit einbezogen werden.\n",
        "\n",
        "Es gibt mehrere Methoden, um mit Ausreißern umzugehen:\n",
        "- Zugehörige Datensätze löschen\n",
        "- Werte auf bestimmtes Intervall beschneiden (kappen)\n",
        "- Werte durch Mittelwert ersetzen"
      ]
    },
    {
      "cell_type": "markdown",
      "metadata": {
        "id": "3iKQ4TArJqPH",
        "colab_type": "text"
      },
      "source": [
        "In unserem vorliegenden Datensatz entfernen wir zunächst die Ausreißer beim Körpergewicht und Körpergröße, da diese (sofern es sich nicht um Messfehler handelt) nicht Maßgeblich für \"Normale\" Menschen sind sondern von stark Übergewichtigen bzw. Kleinwüchsigen Menschen stammen."
      ]
    },
    {
      "cell_type": "code",
      "metadata": {
        "id": "K7_dIaayJcL1",
        "colab_type": "code",
        "outputId": "6c32d237-ed4c-4839-fb90-99b6ffc62bea",
        "colab": {
          "base_uri": "https://localhost:8080/",
          "height": 111
        }
      },
      "source": [
        "data[data['Weight'] > 115]"
      ],
      "execution_count": 0,
      "outputs": [
        {
          "output_type": "execute_result",
          "data": {
            "text/html": [
              "<div>\n",
              "<style scoped>\n",
              "    .dataframe tbody tr th:only-of-type {\n",
              "        vertical-align: middle;\n",
              "    }\n",
              "\n",
              "    .dataframe tbody tr th {\n",
              "        vertical-align: top;\n",
              "    }\n",
              "\n",
              "    .dataframe thead th {\n",
              "        text-align: right;\n",
              "    }\n",
              "</style>\n",
              "<table border=\"1\" class=\"dataframe\">\n",
              "  <thead>\n",
              "    <tr style=\"text-align: right;\">\n",
              "      <th></th>\n",
              "      <th>Density</th>\n",
              "      <th>bodyfat</th>\n",
              "      <th>Age</th>\n",
              "      <th>Weight</th>\n",
              "      <th>Height</th>\n",
              "      <th>Neck</th>\n",
              "      <th>Chest</th>\n",
              "      <th>Abdomen</th>\n",
              "      <th>Hip</th>\n",
              "      <th>Thigh</th>\n",
              "      <th>Knee</th>\n",
              "      <th>Ankle</th>\n",
              "      <th>Biceps</th>\n",
              "      <th>Forearm</th>\n",
              "      <th>Wrist</th>\n",
              "    </tr>\n",
              "  </thead>\n",
              "  <tbody>\n",
              "    <tr>\n",
              "      <th>38</th>\n",
              "      <td>1.0202</td>\n",
              "      <td>35.2</td>\n",
              "      <td>46</td>\n",
              "      <td>164.8701</td>\n",
              "      <td>183.515</td>\n",
              "      <td>51.2</td>\n",
              "      <td>136.2</td>\n",
              "      <td>148.1</td>\n",
              "      <td>147.7</td>\n",
              "      <td>87.3</td>\n",
              "      <td>49.1</td>\n",
              "      <td>29.6</td>\n",
              "      <td>45.0</td>\n",
              "      <td>29.0</td>\n",
              "      <td>21.4</td>\n",
              "    </tr>\n",
              "    <tr>\n",
              "      <th>40</th>\n",
              "      <td>1.0217</td>\n",
              "      <td>34.5</td>\n",
              "      <td>45</td>\n",
              "      <td>119.2885</td>\n",
              "      <td>174.625</td>\n",
              "      <td>43.2</td>\n",
              "      <td>128.3</td>\n",
              "      <td>126.2</td>\n",
              "      <td>125.6</td>\n",
              "      <td>72.5</td>\n",
              "      <td>39.6</td>\n",
              "      <td>26.6</td>\n",
              "      <td>36.4</td>\n",
              "      <td>32.7</td>\n",
              "      <td>21.4</td>\n",
              "    </tr>\n",
              "  </tbody>\n",
              "</table>\n",
              "</div>"
            ],
            "text/plain": [
              "    Density  bodyfat  Age    Weight  ...  Ankle  Biceps  Forearm  Wrist\n",
              "38   1.0202     35.2   46  164.8701  ...   29.6    45.0     29.0   21.4\n",
              "40   1.0217     34.5   45  119.2885  ...   26.6    36.4     32.7   21.4\n",
              "\n",
              "[2 rows x 15 columns]"
            ]
          },
          "metadata": {
            "tags": []
          },
          "execution_count": 7
        }
      ]
    },
    {
      "cell_type": "code",
      "metadata": {
        "id": "S-DgwWT9JG1Y",
        "colab_type": "code",
        "outputId": "0e3e5e98-5cbf-4e92-ec93-22a27d9dddae",
        "colab": {
          "base_uri": "https://localhost:8080/",
          "height": 34
        }
      },
      "source": [
        "data = data[data['Weight'] <= 115]\n",
        "data = data[data['Height'] >= 140]\n",
        "data.index.size"
      ],
      "execution_count": 0,
      "outputs": [
        {
          "output_type": "execute_result",
          "data": {
            "text/plain": [
              "249"
            ]
          },
          "metadata": {
            "tags": []
          },
          "execution_count": 15
        }
      ]
    },
    {
      "cell_type": "code",
      "metadata": {
        "id": "nLOyGqQROTl6",
        "colab_type": "code",
        "outputId": "948e2c30-e8af-44ed-a078-b53d44fa4618",
        "colab": {
          "base_uri": "https://localhost:8080/",
          "height": 367
        }
      },
      "source": [
        "data[[\"Density\", \"bodyfat\", \"Age\", \"Weight\", \"Height\"]].plot.box(figsize=(10, 4), subplots=True)"
      ],
      "execution_count": 0,
      "outputs": [
        {
          "output_type": "execute_result",
          "data": {
            "text/plain": [
              "Density       AxesSubplot(0.125,0.125;0.133621x0.755)\n",
              "bodyfat    AxesSubplot(0.285345,0.125;0.133621x0.755)\n",
              "Age         AxesSubplot(0.44569,0.125;0.133621x0.755)\n",
              "Weight     AxesSubplot(0.606034,0.125;0.133621x0.755)\n",
              "Height     AxesSubplot(0.766379,0.125;0.133621x0.755)\n",
              "dtype: object"
            ]
          },
          "metadata": {
            "tags": []
          },
          "execution_count": 16
        },
        {
          "output_type": "display_data",
          "data": {
            "image/png": "[encoded data removed]",
            "text/plain": [
              "<Figure size 720x288 with 5 Axes>"
            ]
          },
          "metadata": {
            "tags": [],
            "needs_background": "light"
          }
        }
      ]
    },
    {
      "cell_type": "markdown",
      "metadata": {
        "id": "naF_Jh95PZqO",
        "colab_type": "text"
      },
      "source": [
        "Der Ausreißer mit dem hohen Körperfettanteil entspricht auch der niedrigen Körperdichte. Dies spricht für einen tatsächlichen \"echten Ausreißer\" und keinen Messfehler, daher behalten wir diese Werte unverändert bei."
      ]
    },
    {
      "cell_type": "code",
      "metadata": {
        "id": "K1ZqV8uqPNJc",
        "colab_type": "code",
        "outputId": "14565f39-8f4c-4a06-dcc6-09c870a68843",
        "colab": {
          "base_uri": "https://localhost:8080/",
          "height": 80
        }
      },
      "source": [
        "data[data['bodyfat'] > 42]"
      ],
      "execution_count": 0,
      "outputs": [
        {
          "output_type": "execute_result",
          "data": {
            "text/html": [
              "<div>\n",
              "<style scoped>\n",
              "    .dataframe tbody tr th:only-of-type {\n",
              "        vertical-align: middle;\n",
              "    }\n",
              "\n",
              "    .dataframe tbody tr th {\n",
              "        vertical-align: top;\n",
              "    }\n",
              "\n",
              "    .dataframe thead th {\n",
              "        text-align: right;\n",
              "    }\n",
              "</style>\n",
              "<table border=\"1\" class=\"dataframe\">\n",
              "  <thead>\n",
              "    <tr style=\"text-align: right;\">\n",
              "      <th></th>\n",
              "      <th>Density</th>\n",
              "      <th>bodyfat</th>\n",
              "      <th>Age</th>\n",
              "      <th>Weight</th>\n",
              "      <th>Height</th>\n",
              "      <th>Neck</th>\n",
              "      <th>Chest</th>\n",
              "      <th>Abdomen</th>\n",
              "      <th>Hip</th>\n",
              "      <th>Thigh</th>\n",
              "      <th>Knee</th>\n",
              "      <th>Ankle</th>\n",
              "      <th>Biceps</th>\n",
              "      <th>Forearm</th>\n",
              "      <th>Wrist</th>\n",
              "    </tr>\n",
              "  </thead>\n",
              "  <tbody>\n",
              "    <tr>\n",
              "      <th>215</th>\n",
              "      <td>0.995</td>\n",
              "      <td>47.5</td>\n",
              "      <td>51</td>\n",
              "      <td>99.426</td>\n",
              "      <td>162.56</td>\n",
              "      <td>41.2</td>\n",
              "      <td>119.8</td>\n",
              "      <td>122.1</td>\n",
              "      <td>112.8</td>\n",
              "      <td>62.5</td>\n",
              "      <td>36.9</td>\n",
              "      <td>23.6</td>\n",
              "      <td>34.7</td>\n",
              "      <td>29.1</td>\n",
              "      <td>18.4</td>\n",
              "    </tr>\n",
              "  </tbody>\n",
              "</table>\n",
              "</div>"
            ],
            "text/plain": [
              "     Density  bodyfat  Age  Weight  Height  ...  Knee  Ankle  Biceps  Forearm  Wrist\n",
              "215    0.995     47.5   51  99.426  162.56  ...  36.9   23.6    34.7     29.1   18.4\n",
              "\n",
              "[1 rows x 15 columns]"
            ]
          },
          "metadata": {
            "tags": []
          },
          "execution_count": 18
        }
      ]
    },
    {
      "cell_type": "markdown",
      "metadata": {
        "id": "Sxc5Z0uMPpoE",
        "colab_type": "text"
      },
      "source": [
        "Das Vorgehen bezüglich der restlichen Ausreißer hängt von den Zielen der weiteren Analyse ab. Da an dieser Stelle zunächst keine weiteren Analysen durchgeführt werden, entscheiden wir uns dafür, die Ausreißer beizubehalten.  \n",
        "Falls z.B. ein Regressionsmodell für die Vorhersage des Körperfettanteils trainiert werden sollte, so müsste anhand von Testdaten untersucht werden, ob das Entfernen oder Kappen der Ausreißer sich vorteilhaft auf die Modellgüte auswirkt. Allerdings unterliegen Körperproportionen in der Natur stärkeren Schwankungen, so dass es sich als sinnvoller erweisen könnte, die Ausreißer zu beahlten und weitere Daten zu sammeln, um das Modell zu verbessern."
      ]
    },
    {
      "cell_type": "markdown",
      "metadata": {
        "id": "afEA_Q0zqEqe",
        "colab_type": "text"
      },
      "source": [
        "Abgesehen von Ausreißern können weitere Aspekte die Ergebnisse, die Gültigkeit eines statistischen oder maschinell lernenden Modells und die Genauigkeit der Vorhersage beeinflussen. Einige dieser Aspekte sind:\n",
        "- Underfitting: Modelle mit einer zu geringen Komplexität können komplexe Zusammenhänge nicht vollständig erfassen und modellieren und daher keine guten Vorhersagen erzeugen.\n",
        "- Overfitting: Werden zu komplexe Modelle mit einer zu geringe Menge an Daten trainiert, so kann das Modell die einzelnen Datenpunkte \"auswendig lernen\" und dadurch schlechte Vorhersagen auf unbekannten Daten erzeugen.\n",
        "- Bias in den Daten: Wird z.B. ein Klassifikator für Pinguine trainiert und dabei als positive Beispiele nur Bilder mit Schneehintergrund verwendet, wird der Klassifikator nicht die Pinguine erkennen, sondern den Schnee. Bilder von Pinguinen im Zoo (ohne Schnee) werden dann falsch klassifiziert.\n"
      ]
    }
  ]
}