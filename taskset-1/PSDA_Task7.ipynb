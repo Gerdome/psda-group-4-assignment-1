{
  "nbformat": 4,
  "nbformat_minor": 0,
  "metadata": {
    "kernelspec": {
      "display_name": "Python 3",
      "language": "python",
      "name": "python3"
    },
    "language_info": {
      "codemirror_mode": {
        "name": "ipython",
        "version": 3
      },
      "file_extension": ".py",
      "mimetype": "text/x-python",
      "name": "python",
      "nbconvert_exporter": "python",
      "pygments_lexer": "ipython3",
      "version": "3.7.4"
    },
    "colab": {
      "name": "PSDA_Task7.ipynb",
      "provenance": [],
      "collapsed_sections": []
    }
  },
  "cells": [
    {
      "cell_type": "code",
      "metadata": {
        "id": "iKGNX_onWrSn",
        "colab_type": "code",
        "outputId": "27c82fcd-432f-4b4a-ad37-d11545049edd",
        "colab": {
          "base_uri": "https://localhost:8080/",
          "height": 119
        }
      },
      "source": [
        "!git clone https://git.scc.kit.edu/uklpi/my-smart-data-analysis.git"
      ],
      "execution_count": 0,
      "outputs": [
        {
          "output_type": "stream",
          "text": [
            "Cloning into 'my-smart-data-analysis'...\n",
            "remote: Enumerating objects: 17, done.\u001b[K\n",
            "remote: Counting objects: 100% (17/17), done.\u001b[K\n",
            "remote: Compressing objects: 100% (14/14), done.\u001b[K\n",
            "remote: Total 17 (delta 2), reused 0 (delta 0), pack-reused 0\u001b[K\n",
            "Unpacking objects: 100% (17/17), done.\n"
          ],
          "name": "stdout"
        }
      ]
    },
    {
      "cell_type": "code",
      "metadata": {
        "id": "WoQCnQQGaqTe",
        "colab_type": "code",
        "colab": {}
      },
      "source": [
        "!mv my-smart-data-analysis/* ./"
      ],
      "execution_count": 0,
      "outputs": []
    },
    {
      "cell_type": "code",
      "metadata": {
        "id": "e5gxJNW7PNJW",
        "colab_type": "code",
        "colab": {}
      },
      "source": [
        "import numpy as np\n",
        "import pandas as pd\n",
        "import csv\n",
        "from sklearn import preprocessing\n",
        "from sklearn.model_selection import train_test_split\n",
        "from sklearn.preprocessing import StandardScaler\n",
        "from sklearn.pipeline import Pipeline\n",
        "from sklearn.svm import SVC\n",
        "from sklearn.ensemble import RandomForestClassifier\n",
        "from sklearn.linear_model import LogisticRegression\n",
        "from sklearn.model_selection import GridSearchCV\n",
        "import matplotlib.pyplot as plt\n",
        "\n",
        "from matplotlib.colors import ListedColormap"
      ],
      "execution_count": 0,
      "outputs": []
    },
    {
      "cell_type": "markdown",
      "metadata": {
        "id": "mh0exTuDSQWO",
        "colab_type": "text"
      },
      "source": [
        "This dataset tells which of the users purchased/not purchased a particular product."
      ]
    },
    {
      "cell_type": "code",
      "metadata": {
        "id": "e7w9tXlZPNJd",
        "colab_type": "code",
        "outputId": "29010e1b-2fc9-4d1a-d4d1-ade5cd28b228",
        "colab": {
          "base_uri": "https://localhost:8080/",
          "height": 419
        }
      },
      "source": [
        "data = pd.read_csv(\"./data/Social_Network_Ads.csv\")\n",
        "data"
      ],
      "execution_count": 0,
      "outputs": [
        {
          "output_type": "execute_result",
          "data": {
            "text/html": [
              "<div>\n",
              "<style scoped>\n",
              "    .dataframe tbody tr th:only-of-type {\n",
              "        vertical-align: middle;\n",
              "    }\n",
              "\n",
              "    .dataframe tbody tr th {\n",
              "        vertical-align: top;\n",
              "    }\n",
              "\n",
              "    .dataframe thead th {\n",
              "        text-align: right;\n",
              "    }\n",
              "</style>\n",
              "<table border=\"1\" class=\"dataframe\">\n",
              "  <thead>\n",
              "    <tr style=\"text-align: right;\">\n",
              "      <th></th>\n",
              "      <th>User ID</th>\n",
              "      <th>Gender</th>\n",
              "      <th>Age</th>\n",
              "      <th>EstimatedSalary</th>\n",
              "      <th>Purchased</th>\n",
              "    </tr>\n",
              "  </thead>\n",
              "  <tbody>\n",
              "    <tr>\n",
              "      <th>0</th>\n",
              "      <td>15624510</td>\n",
              "      <td>Male</td>\n",
              "      <td>19</td>\n",
              "      <td>19000</td>\n",
              "      <td>0</td>\n",
              "    </tr>\n",
              "    <tr>\n",
              "      <th>1</th>\n",
              "      <td>15810944</td>\n",
              "      <td>Male</td>\n",
              "      <td>35</td>\n",
              "      <td>20000</td>\n",
              "      <td>0</td>\n",
              "    </tr>\n",
              "    <tr>\n",
              "      <th>2</th>\n",
              "      <td>15668575</td>\n",
              "      <td>Female</td>\n",
              "      <td>26</td>\n",
              "      <td>43000</td>\n",
              "      <td>0</td>\n",
              "    </tr>\n",
              "    <tr>\n",
              "      <th>3</th>\n",
              "      <td>15603246</td>\n",
              "      <td>Female</td>\n",
              "      <td>27</td>\n",
              "      <td>57000</td>\n",
              "      <td>0</td>\n",
              "    </tr>\n",
              "    <tr>\n",
              "      <th>4</th>\n",
              "      <td>15804002</td>\n",
              "      <td>Male</td>\n",
              "      <td>19</td>\n",
              "      <td>76000</td>\n",
              "      <td>0</td>\n",
              "    </tr>\n",
              "    <tr>\n",
              "      <th>...</th>\n",
              "      <td>...</td>\n",
              "      <td>...</td>\n",
              "      <td>...</td>\n",
              "      <td>...</td>\n",
              "      <td>...</td>\n",
              "    </tr>\n",
              "    <tr>\n",
              "      <th>395</th>\n",
              "      <td>15691863</td>\n",
              "      <td>Female</td>\n",
              "      <td>46</td>\n",
              "      <td>41000</td>\n",
              "      <td>1</td>\n",
              "    </tr>\n",
              "    <tr>\n",
              "      <th>396</th>\n",
              "      <td>15706071</td>\n",
              "      <td>Male</td>\n",
              "      <td>51</td>\n",
              "      <td>23000</td>\n",
              "      <td>1</td>\n",
              "    </tr>\n",
              "    <tr>\n",
              "      <th>397</th>\n",
              "      <td>15654296</td>\n",
              "      <td>Female</td>\n",
              "      <td>50</td>\n",
              "      <td>20000</td>\n",
              "      <td>1</td>\n",
              "    </tr>\n",
              "    <tr>\n",
              "      <th>398</th>\n",
              "      <td>15755018</td>\n",
              "      <td>Male</td>\n",
              "      <td>36</td>\n",
              "      <td>33000</td>\n",
              "      <td>0</td>\n",
              "    </tr>\n",
              "    <tr>\n",
              "      <th>399</th>\n",
              "      <td>15594041</td>\n",
              "      <td>Female</td>\n",
              "      <td>49</td>\n",
              "      <td>36000</td>\n",
              "      <td>1</td>\n",
              "    </tr>\n",
              "  </tbody>\n",
              "</table>\n",
              "<p>400 rows × 5 columns</p>\n",
              "</div>"
            ],
            "text/plain": [
              "      User ID  Gender  Age  EstimatedSalary  Purchased\n",
              "0    15624510    Male   19            19000          0\n",
              "1    15810944    Male   35            20000          0\n",
              "2    15668575  Female   26            43000          0\n",
              "3    15603246  Female   27            57000          0\n",
              "4    15804002    Male   19            76000          0\n",
              "..        ...     ...  ...              ...        ...\n",
              "395  15691863  Female   46            41000          1\n",
              "396  15706071    Male   51            23000          1\n",
              "397  15654296  Female   50            20000          1\n",
              "398  15755018    Male   36            33000          0\n",
              "399  15594041  Female   49            36000          1\n",
              "\n",
              "[400 rows x 5 columns]"
            ]
          },
          "metadata": {
            "tags": []
          },
          "execution_count": 4
        }
      ]
    },
    {
      "cell_type": "code",
      "metadata": {
        "id": "hRidfUmwPNJi",
        "colab_type": "code",
        "colab": {}
      },
      "source": [
        "X = data.iloc[:, [2, 3]].values\n",
        "y = data.iloc[:, 4].values"
      ],
      "execution_count": 0,
      "outputs": []
    },
    {
      "cell_type": "code",
      "metadata": {
        "id": "tWYOeVOzPNJo",
        "colab_type": "code",
        "colab": {}
      },
      "source": [
        "X_train, X_test, y_train, y_test = train_test_split(X, y, test_size=0.2, random_state=1)"
      ],
      "execution_count": 0,
      "outputs": []
    },
    {
      "cell_type": "code",
      "metadata": {
        "id": "9BnMNgzKPNJr",
        "colab_type": "code",
        "colab": {}
      },
      "source": [
        "X_train = StandardScaler().fit_transform(X_train)\n",
        "X_test = StandardScaler().fit_transform(X_test)"
      ],
      "execution_count": 0,
      "outputs": []
    },
    {
      "cell_type": "markdown",
      "metadata": {
        "id": "HQlSBUrIPNJv",
        "colab_type": "text"
      },
      "source": [
        "# SVM"
      ]
    },
    {
      "cell_type": "markdown",
      "metadata": {
        "id": "ODKsWdPLSKoe",
        "colab_type": "text"
      },
      "source": [
        "Grid search is a tuning technique that attempts to compute the optimum values of hyperparameters. It is an exhaustive search that is performed on a the specific parameter values of a model. The model is also known as an estimator."
      ]
    },
    {
      "cell_type": "markdown",
      "metadata": {
        "id": "Mm9jphMwRMDc",
        "colab_type": "text"
      },
      "source": [
        "First, we need to import GridSearchCV from the sklearn library, a machine learning library for python. The estimator parameter of GridSearchCV requires the model we are using for the hyper parameter tuning process. For this example, we are using the rbf kernel of the Support Vector Regression model(SVR). The param_grid parameter requires a list of parameters and the range of values for each parameter of the specified estimator. The most significant parameters required when working with the rbf kernel of the SVR model are c, gamma. A list of values to choose from should be given to each hyper parameter of the model. We can change these values and experiment more to see which value ranges give better performance. A cross validation process is performed in order to determine the hyper parameter value set which provides the best accuracy levels."
      ]
    },
    {
      "cell_type": "markdown",
      "metadata": {
        "id": "L9EPn92DcV7i",
        "colab_type": "text"
      },
      "source": [
        "SVM\n",
        "C: float, optional (default=1.0)\n",
        "Regularization parameter. The strength of the regularization is inversely proportional to C. Must be strictly positive. The penalty is a squared l2 penalty.\n",
        "\n",
        "kernel: string, optional (default=’rbf’)\n",
        "Specifies the kernel type to be used in the algorithm. It must be one of ‘linear’, ‘poly’, ‘rbf’, ‘sigmoid’, ‘precomputed’ or a callable. If none is given, ‘rbf’ will be used. If a callable is given it is used to pre-compute the kernel matrix from data matrices; that matrix should be an array of shape (n_samples, n_samples).\n",
        "\n",
        "gamma: {‘scale’, ‘auto’} or float, optional (default=’scale’)\n",
        "Kernel coefficient for ‘rbf’, ‘poly’ and ‘sigmoid’.\n",
        "\n",
        "if gamma='scale' (default) is passed then it uses 1 / (n_features * X.var()) as value of gamma,\n",
        "if ‘auto’, uses 1 / n_features.\n"
      ]
    },
    {
      "cell_type": "code",
      "metadata": {
        "id": "BnyJTJQXPNJw",
        "colab_type": "code",
        "outputId": "6dda129c-7d59-46a4-ef57-8b308a83ff5d",
        "colab": {
          "base_uri": "https://localhost:8080/",
          "height": 1000
        }
      },
      "source": [
        "param_grid_svc = [{'C': [1, 2, 3, 4, 5, 10,100, 1000], 'kernel': ['linear'], },\n",
        "              {'C': [1, 2, 3, 4, 5,10,100, 1000], 'kernel': ['rbf'], 'gamma': [0.1, 0.2, 0.3, 0.4, 0.5, 0.6, 0.7, 0.8]}]\n",
        "search_svm = GridSearchCV(SVC(random_state=1), param_grid_svc, scoring='accuracy', cv=10, n_jobs=-1)\n",
        "search_svm = search_svm.fit(X_train, y_train)\n",
        "best_score_svm = search_svm.best_score_\n",
        "best_parameters_svm = search_svm.best_params_\n",
        "scores_svm = search_svm.cv_results_\n",
        "Data_svm = pd.DataFrame(scores_svm)\n",
        "Data_svm\n",
        "# Data_svm[['params', 'mean_test_score', 'mean_score_time', 'rank_test_score' ]]"
      ],
      "execution_count": 0,
      "outputs": [
        {
          "output_type": "execute_result",
          "data": {
            "text/html": [
              "<div>\n",
              "<style scoped>\n",
              "    .dataframe tbody tr th:only-of-type {\n",
              "        vertical-align: middle;\n",
              "    }\n",
              "\n",
              "    .dataframe tbody tr th {\n",
              "        vertical-align: top;\n",
              "    }\n",
              "\n",
              "    .dataframe thead th {\n",
              "        text-align: right;\n",
              "    }\n",
              "</style>\n",
              "<table border=\"1\" class=\"dataframe\">\n",
              "  <thead>\n",
              "    <tr style=\"text-align: right;\">\n",
              "      <th></th>\n",
              "      <th>mean_fit_time</th>\n",
              "      <th>std_fit_time</th>\n",
              "      <th>mean_score_time</th>\n",
              "      <th>std_score_time</th>\n",
              "      <th>param_C</th>\n",
              "      <th>param_kernel</th>\n",
              "      <th>param_gamma</th>\n",
              "      <th>params</th>\n",
              "      <th>split0_test_score</th>\n",
              "      <th>split1_test_score</th>\n",
              "      <th>split2_test_score</th>\n",
              "      <th>split3_test_score</th>\n",
              "      <th>split4_test_score</th>\n",
              "      <th>split5_test_score</th>\n",
              "      <th>split6_test_score</th>\n",
              "      <th>split7_test_score</th>\n",
              "      <th>split8_test_score</th>\n",
              "      <th>split9_test_score</th>\n",
              "      <th>mean_test_score</th>\n",
              "      <th>std_test_score</th>\n",
              "      <th>rank_test_score</th>\n",
              "    </tr>\n",
              "  </thead>\n",
              "  <tbody>\n",
              "    <tr>\n",
              "      <th>0</th>\n",
              "      <td>0.002909</td>\n",
              "      <td>0.000700</td>\n",
              "      <td>0.000581</td>\n",
              "      <td>0.000092</td>\n",
              "      <td>1</td>\n",
              "      <td>linear</td>\n",
              "      <td>NaN</td>\n",
              "      <td>{'C': 1, 'kernel': 'linear'}</td>\n",
              "      <td>0.8125</td>\n",
              "      <td>0.75000</td>\n",
              "      <td>0.87500</td>\n",
              "      <td>0.87500</td>\n",
              "      <td>0.81250</td>\n",
              "      <td>0.78125</td>\n",
              "      <td>0.84375</td>\n",
              "      <td>0.96875</td>\n",
              "      <td>0.8125</td>\n",
              "      <td>0.87500</td>\n",
              "      <td>0.840625</td>\n",
              "      <td>0.058380</td>\n",
              "      <td>65</td>\n",
              "    </tr>\n",
              "    <tr>\n",
              "      <th>1</th>\n",
              "      <td>0.003137</td>\n",
              "      <td>0.000842</td>\n",
              "      <td>0.000688</td>\n",
              "      <td>0.000547</td>\n",
              "      <td>2</td>\n",
              "      <td>linear</td>\n",
              "      <td>NaN</td>\n",
              "      <td>{'C': 2, 'kernel': 'linear'}</td>\n",
              "      <td>0.8125</td>\n",
              "      <td>0.75000</td>\n",
              "      <td>0.87500</td>\n",
              "      <td>0.87500</td>\n",
              "      <td>0.81250</td>\n",
              "      <td>0.75000</td>\n",
              "      <td>0.78125</td>\n",
              "      <td>0.96875</td>\n",
              "      <td>0.8125</td>\n",
              "      <td>0.87500</td>\n",
              "      <td>0.831250</td>\n",
              "      <td>0.064348</td>\n",
              "      <td>66</td>\n",
              "    </tr>\n",
              "    <tr>\n",
              "      <th>2</th>\n",
              "      <td>0.003079</td>\n",
              "      <td>0.000758</td>\n",
              "      <td>0.000495</td>\n",
              "      <td>0.000043</td>\n",
              "      <td>3</td>\n",
              "      <td>linear</td>\n",
              "      <td>NaN</td>\n",
              "      <td>{'C': 3, 'kernel': 'linear'}</td>\n",
              "      <td>0.8125</td>\n",
              "      <td>0.75000</td>\n",
              "      <td>0.87500</td>\n",
              "      <td>0.87500</td>\n",
              "      <td>0.81250</td>\n",
              "      <td>0.75000</td>\n",
              "      <td>0.78125</td>\n",
              "      <td>0.96875</td>\n",
              "      <td>0.8125</td>\n",
              "      <td>0.87500</td>\n",
              "      <td>0.831250</td>\n",
              "      <td>0.064348</td>\n",
              "      <td>66</td>\n",
              "    </tr>\n",
              "    <tr>\n",
              "      <th>3</th>\n",
              "      <td>0.005213</td>\n",
              "      <td>0.002874</td>\n",
              "      <td>0.000508</td>\n",
              "      <td>0.000016</td>\n",
              "      <td>4</td>\n",
              "      <td>linear</td>\n",
              "      <td>NaN</td>\n",
              "      <td>{'C': 4, 'kernel': 'linear'}</td>\n",
              "      <td>0.8125</td>\n",
              "      <td>0.75000</td>\n",
              "      <td>0.87500</td>\n",
              "      <td>0.87500</td>\n",
              "      <td>0.81250</td>\n",
              "      <td>0.75000</td>\n",
              "      <td>0.78125</td>\n",
              "      <td>0.96875</td>\n",
              "      <td>0.8125</td>\n",
              "      <td>0.87500</td>\n",
              "      <td>0.831250</td>\n",
              "      <td>0.064348</td>\n",
              "      <td>66</td>\n",
              "    </tr>\n",
              "    <tr>\n",
              "      <th>4</th>\n",
              "      <td>0.003672</td>\n",
              "      <td>0.001158</td>\n",
              "      <td>0.000491</td>\n",
              "      <td>0.000037</td>\n",
              "      <td>5</td>\n",
              "      <td>linear</td>\n",
              "      <td>NaN</td>\n",
              "      <td>{'C': 5, 'kernel': 'linear'}</td>\n",
              "      <td>0.8125</td>\n",
              "      <td>0.75000</td>\n",
              "      <td>0.87500</td>\n",
              "      <td>0.87500</td>\n",
              "      <td>0.81250</td>\n",
              "      <td>0.75000</td>\n",
              "      <td>0.78125</td>\n",
              "      <td>0.96875</td>\n",
              "      <td>0.8125</td>\n",
              "      <td>0.87500</td>\n",
              "      <td>0.831250</td>\n",
              "      <td>0.064348</td>\n",
              "      <td>66</td>\n",
              "    </tr>\n",
              "    <tr>\n",
              "      <th>...</th>\n",
              "      <td>...</td>\n",
              "      <td>...</td>\n",
              "      <td>...</td>\n",
              "      <td>...</td>\n",
              "      <td>...</td>\n",
              "      <td>...</td>\n",
              "      <td>...</td>\n",
              "      <td>...</td>\n",
              "      <td>...</td>\n",
              "      <td>...</td>\n",
              "      <td>...</td>\n",
              "      <td>...</td>\n",
              "      <td>...</td>\n",
              "      <td>...</td>\n",
              "      <td>...</td>\n",
              "      <td>...</td>\n",
              "      <td>...</td>\n",
              "      <td>...</td>\n",
              "      <td>...</td>\n",
              "      <td>...</td>\n",
              "      <td>...</td>\n",
              "    </tr>\n",
              "    <tr>\n",
              "      <th>67</th>\n",
              "      <td>0.015669</td>\n",
              "      <td>0.004731</td>\n",
              "      <td>0.000619</td>\n",
              "      <td>0.000038</td>\n",
              "      <td>1000</td>\n",
              "      <td>rbf</td>\n",
              "      <td>0.4</td>\n",
              "      <td>{'C': 1000, 'gamma': 0.4, 'kernel': 'rbf'}</td>\n",
              "      <td>0.8750</td>\n",
              "      <td>0.90625</td>\n",
              "      <td>0.96875</td>\n",
              "      <td>0.96875</td>\n",
              "      <td>0.93750</td>\n",
              "      <td>0.75000</td>\n",
              "      <td>0.87500</td>\n",
              "      <td>0.96875</td>\n",
              "      <td>0.8750</td>\n",
              "      <td>0.93750</td>\n",
              "      <td>0.906250</td>\n",
              "      <td>0.064043</td>\n",
              "      <td>60</td>\n",
              "    </tr>\n",
              "    <tr>\n",
              "      <th>68</th>\n",
              "      <td>0.014610</td>\n",
              "      <td>0.003019</td>\n",
              "      <td>0.000570</td>\n",
              "      <td>0.000031</td>\n",
              "      <td>1000</td>\n",
              "      <td>rbf</td>\n",
              "      <td>0.5</td>\n",
              "      <td>{'C': 1000, 'gamma': 0.5, 'kernel': 'rbf'}</td>\n",
              "      <td>0.8750</td>\n",
              "      <td>0.90625</td>\n",
              "      <td>0.93750</td>\n",
              "      <td>0.93750</td>\n",
              "      <td>0.93750</td>\n",
              "      <td>0.78125</td>\n",
              "      <td>0.87500</td>\n",
              "      <td>0.96875</td>\n",
              "      <td>0.8750</td>\n",
              "      <td>0.93750</td>\n",
              "      <td>0.903125</td>\n",
              "      <td>0.051254</td>\n",
              "      <td>61</td>\n",
              "    </tr>\n",
              "    <tr>\n",
              "      <th>69</th>\n",
              "      <td>0.014399</td>\n",
              "      <td>0.003914</td>\n",
              "      <td>0.000603</td>\n",
              "      <td>0.000031</td>\n",
              "      <td>1000</td>\n",
              "      <td>rbf</td>\n",
              "      <td>0.6</td>\n",
              "      <td>{'C': 1000, 'gamma': 0.6, 'kernel': 'rbf'}</td>\n",
              "      <td>0.8750</td>\n",
              "      <td>0.90625</td>\n",
              "      <td>0.93750</td>\n",
              "      <td>0.90625</td>\n",
              "      <td>0.90625</td>\n",
              "      <td>0.81250</td>\n",
              "      <td>0.87500</td>\n",
              "      <td>0.93750</td>\n",
              "      <td>0.8750</td>\n",
              "      <td>0.90625</td>\n",
              "      <td>0.893750</td>\n",
              "      <td>0.034799</td>\n",
              "      <td>64</td>\n",
              "    </tr>\n",
              "    <tr>\n",
              "      <th>70</th>\n",
              "      <td>0.018153</td>\n",
              "      <td>0.004295</td>\n",
              "      <td>0.000597</td>\n",
              "      <td>0.000032</td>\n",
              "      <td>1000</td>\n",
              "      <td>rbf</td>\n",
              "      <td>0.7</td>\n",
              "      <td>{'C': 1000, 'gamma': 0.7, 'kernel': 'rbf'}</td>\n",
              "      <td>0.8750</td>\n",
              "      <td>0.90625</td>\n",
              "      <td>0.93750</td>\n",
              "      <td>0.93750</td>\n",
              "      <td>0.90625</td>\n",
              "      <td>0.81250</td>\n",
              "      <td>0.87500</td>\n",
              "      <td>0.96875</td>\n",
              "      <td>0.8750</td>\n",
              "      <td>0.90625</td>\n",
              "      <td>0.900000</td>\n",
              "      <td>0.041458</td>\n",
              "      <td>63</td>\n",
              "    </tr>\n",
              "    <tr>\n",
              "      <th>71</th>\n",
              "      <td>0.012672</td>\n",
              "      <td>0.003724</td>\n",
              "      <td>0.000503</td>\n",
              "      <td>0.000077</td>\n",
              "      <td>1000</td>\n",
              "      <td>rbf</td>\n",
              "      <td>0.8</td>\n",
              "      <td>{'C': 1000, 'gamma': 0.8, 'kernel': 'rbf'}</td>\n",
              "      <td>0.8750</td>\n",
              "      <td>0.93750</td>\n",
              "      <td>0.93750</td>\n",
              "      <td>0.93750</td>\n",
              "      <td>0.90625</td>\n",
              "      <td>0.78125</td>\n",
              "      <td>0.87500</td>\n",
              "      <td>1.00000</td>\n",
              "      <td>0.8750</td>\n",
              "      <td>0.90625</td>\n",
              "      <td>0.903125</td>\n",
              "      <td>0.054932</td>\n",
              "      <td>61</td>\n",
              "    </tr>\n",
              "  </tbody>\n",
              "</table>\n",
              "<p>72 rows × 21 columns</p>\n",
              "</div>"
            ],
            "text/plain": [
              "    mean_fit_time  std_fit_time  ...  std_test_score  rank_test_score\n",
              "0        0.002909      0.000700  ...        0.058380               65\n",
              "1        0.003137      0.000842  ...        0.064348               66\n",
              "2        0.003079      0.000758  ...        0.064348               66\n",
              "3        0.005213      0.002874  ...        0.064348               66\n",
              "4        0.003672      0.001158  ...        0.064348               66\n",
              "..            ...           ...  ...             ...              ...\n",
              "67       0.015669      0.004731  ...        0.064043               60\n",
              "68       0.014610      0.003019  ...        0.051254               61\n",
              "69       0.014399      0.003914  ...        0.034799               64\n",
              "70       0.018153      0.004295  ...        0.041458               63\n",
              "71       0.012672      0.003724  ...        0.054932               61\n",
              "\n",
              "[72 rows x 21 columns]"
            ]
          },
          "metadata": {
            "tags": []
          },
          "execution_count": 8
        }
      ]
    },
    {
      "cell_type": "markdown",
      "metadata": {
        "id": "XKbz-MbKf4HO",
        "colab_type": "text"
      },
      "source": [
        "NOTE\n",
        "cv_results(GridSearchCV)：\n",
        "The key 'params' is used to store a list of parameter settings dicts for all the parameter candidates.\n",
        "\n",
        "The mean_fit_time, std_fit_time, mean_score_time and std_score_time are all in seconds.\n",
        "\n",
        "For multi-metric evaluation, the scores for all the scorers are available in the cv_results_ dict at the keys ending with that scorer’s name ('_<scorer_name>') instead of '_score' shown above. (‘split0_test_precision’, ‘mean_train_precision’ etc.)\n",
        "\n"
      ]
    },
    {
      "cell_type": "code",
      "metadata": {
        "id": "LDRxXek9j_KC",
        "colab_type": "code",
        "outputId": "7659950c-67d5-492c-f4c1-1cc6bf21ae62",
        "colab": {
          "base_uri": "https://localhost:8080/",
          "height": 34
        }
      },
      "source": [
        "best_parameters_svm"
      ],
      "execution_count": 0,
      "outputs": [
        {
          "output_type": "execute_result",
          "data": {
            "text/plain": [
              "{'C': 3, 'gamma': 0.6, 'kernel': 'rbf'}"
            ]
          },
          "metadata": {
            "tags": []
          },
          "execution_count": 9
        }
      ]
    },
    {
      "cell_type": "code",
      "metadata": {
        "id": "gZtXhd9oiUFf",
        "colab_type": "code",
        "outputId": "49aa8996-6a60-45c8-ed93-d7ce3b81377d",
        "colab": {
          "base_uri": "https://localhost:8080/",
          "height": 34
        }
      },
      "source": [
        "best_score_svm"
      ],
      "execution_count": 0,
      "outputs": [
        {
          "output_type": "execute_result",
          "data": {
            "text/plain": [
              "0.93125"
            ]
          },
          "metadata": {
            "tags": []
          },
          "execution_count": 10
        }
      ]
    },
    {
      "cell_type": "markdown",
      "metadata": {
        "id": "aIvCIYQzbEnV",
        "colab_type": "text"
      },
      "source": [
        "## Parallelization Speedups"
      ]
    },
    {
      "cell_type": "code",
      "metadata": {
        "id": "YAGw91svbw93",
        "colab_type": "code",
        "colab": {}
      },
      "source": [
        "import matplotlib\n",
        "import matplotlib.pyplot as plt\n",
        "\n",
        "import time\n",
        "\n",
        "times = []\n",
        "for n_jobs in range(1, 16):\n",
        "  start_time = time.time()\n",
        "  search_svm = GridSearchCV(SVC(random_state=1), param_grid_svc, scoring='accuracy', cv=10, n_jobs=n_jobs)\n",
        "  search_svm = search_svm.fit(X_train, y_train)\n",
        "  times.append(time.time() - start_time)\n",
        "times"
      ],
      "execution_count": 0,
      "outputs": []
    },
    {
      "cell_type": "code",
      "metadata": {
        "id": "WtWRtC_QeJX1",
        "colab_type": "code",
        "outputId": "49609317-803b-4c0b-8aaf-234db92f3c20",
        "colab": {
          "base_uri": "https://localhost:8080/",
          "height": 280
        }
      },
      "source": [
        "plt.plot(range(1, 16), times)\n",
        "plt.ylabel('time')\n",
        "plt.xlabel('n_jobs (~ CPU Cores)')\n",
        "plt.title('', fontsize=12)\n",
        "plt.show()"
      ],
      "execution_count": 0,
      "outputs": [
        {
          "output_type": "display_data",
          "data": {
            "image/png": "[encoded data removed]",
            "text/plain": [
              "<Figure size 432x288 with 1 Axes>"
            ]
          },
          "metadata": {
            "tags": [],
            "needs_background": "light"
          }
        }
      ]
    },
    {
      "cell_type": "markdown",
      "metadata": {
        "id": "yBb3mlskeopw",
        "colab_type": "text"
      },
      "source": [
        "Interestingly, there are no speedups visible when using multiple jobs / cores. This is probably due to the shared colab environment where cpu resource management limits the overall cpu usage by one notebook."
      ]
    },
    {
      "cell_type": "markdown",
      "metadata": {
        "id": "x6jqKj0ilA2y",
        "colab_type": "text"
      },
      "source": [
        "# Random Forest"
      ]
    },
    {
      "cell_type": "markdown",
      "metadata": {
        "id": "HBWAKCb6n-fj",
        "colab_type": "text"
      },
      "source": [
        "A random forest classifier.\n",
        "\n",
        "A random forest is a meta estimator that fits a number of decision tree classifiers on various sub-samples of the dataset and uses averaging to improve the predictive accuracy and control over-fitting. "
      ]
    },
    {
      "cell_type": "markdown",
      "metadata": {
        "id": "rrAzhQoNoUaz",
        "colab_type": "text"
      },
      "source": [
        "n_estimators: The number of trees in the forest."
      ]
    },
    {
      "cell_type": "code",
      "metadata": {
        "id": "9I6TnZu6lFGP",
        "colab_type": "code",
        "colab": {}
      },
      "source": [
        "from sklearn.ensemble import RandomForestClassifier"
      ],
      "execution_count": 0,
      "outputs": []
    },
    {
      "cell_type": "code",
      "metadata": {
        "id": "9Lcxin2AkbSt",
        "colab_type": "code",
        "outputId": "d1484d2f-eb3f-49d4-802b-1fcc0729c688",
        "colab": {
          "base_uri": "https://localhost:8080/",
          "height": 549
        }
      },
      "source": [
        "param_grid_rf = [{'n_estimators': [1,5,10,15,20], 'n_jobs': [1, -1]}]\n",
        "search_rf = GridSearchCV(RandomForestClassifier(random_state = 1), param_grid_rf, scoring='accuracy', cv=10)\n",
        "search_rf = search_rf.fit(X_train, y_train)\n",
        "best_score_rf = search_rf.best_score_\n",
        "best_parameters_rf = search_rf.best_params_\n",
        "scores_rf = search_rf.cv_results_\n",
        "Data_rf = pd.DataFrame(scores_rf)\n",
        "Data_rf\n",
        "# Data_rf[['param_n_estimators', 'mean_test_score', 'mean_score_time', 'rank_test_score']].to_csv(\"./rf.dat\")\n",
        "# Data_rf[['params', 'mean_test_score', 'mean_score_time', 'rank_test_score']].to_csv(\"./rf.dat\")"
      ],
      "execution_count": 0,
      "outputs": [
        {
          "output_type": "execute_result",
          "data": {
            "text/html": [
              "<div>\n",
              "<style scoped>\n",
              "    .dataframe tbody tr th:only-of-type {\n",
              "        vertical-align: middle;\n",
              "    }\n",
              "\n",
              "    .dataframe tbody tr th {\n",
              "        vertical-align: top;\n",
              "    }\n",
              "\n",
              "    .dataframe thead th {\n",
              "        text-align: right;\n",
              "    }\n",
              "</style>\n",
              "<table border=\"1\" class=\"dataframe\">\n",
              "  <thead>\n",
              "    <tr style=\"text-align: right;\">\n",
              "      <th></th>\n",
              "      <th>mean_fit_time</th>\n",
              "      <th>std_fit_time</th>\n",
              "      <th>mean_score_time</th>\n",
              "      <th>std_score_time</th>\n",
              "      <th>param_n_estimators</th>\n",
              "      <th>param_n_jobs</th>\n",
              "      <th>params</th>\n",
              "      <th>split0_test_score</th>\n",
              "      <th>split1_test_score</th>\n",
              "      <th>split2_test_score</th>\n",
              "      <th>split3_test_score</th>\n",
              "      <th>split4_test_score</th>\n",
              "      <th>split5_test_score</th>\n",
              "      <th>split6_test_score</th>\n",
              "      <th>split7_test_score</th>\n",
              "      <th>split8_test_score</th>\n",
              "      <th>split9_test_score</th>\n",
              "      <th>mean_test_score</th>\n",
              "      <th>std_test_score</th>\n",
              "      <th>rank_test_score</th>\n",
              "    </tr>\n",
              "  </thead>\n",
              "  <tbody>\n",
              "    <tr>\n",
              "      <th>0</th>\n",
              "      <td>0.002740</td>\n",
              "      <td>0.000973</td>\n",
              "      <td>0.000744</td>\n",
              "      <td>0.000175</td>\n",
              "      <td>1</td>\n",
              "      <td>1</td>\n",
              "      <td>{'n_estimators': 1, 'n_jobs': 1}</td>\n",
              "      <td>0.84375</td>\n",
              "      <td>0.81250</td>\n",
              "      <td>0.84375</td>\n",
              "      <td>0.96875</td>\n",
              "      <td>0.93750</td>\n",
              "      <td>0.81250</td>\n",
              "      <td>0.87500</td>\n",
              "      <td>0.90625</td>\n",
              "      <td>0.875</td>\n",
              "      <td>0.90625</td>\n",
              "      <td>0.878125</td>\n",
              "      <td>0.049312</td>\n",
              "      <td>9</td>\n",
              "    </tr>\n",
              "    <tr>\n",
              "      <th>1</th>\n",
              "      <td>0.102577</td>\n",
              "      <td>0.208741</td>\n",
              "      <td>0.001121</td>\n",
              "      <td>0.000366</td>\n",
              "      <td>1</td>\n",
              "      <td>-1</td>\n",
              "      <td>{'n_estimators': 1, 'n_jobs': -1}</td>\n",
              "      <td>0.84375</td>\n",
              "      <td>0.81250</td>\n",
              "      <td>0.84375</td>\n",
              "      <td>0.96875</td>\n",
              "      <td>0.93750</td>\n",
              "      <td>0.81250</td>\n",
              "      <td>0.87500</td>\n",
              "      <td>0.90625</td>\n",
              "      <td>0.875</td>\n",
              "      <td>0.90625</td>\n",
              "      <td>0.878125</td>\n",
              "      <td>0.049312</td>\n",
              "      <td>9</td>\n",
              "    </tr>\n",
              "    <tr>\n",
              "      <th>2</th>\n",
              "      <td>0.007233</td>\n",
              "      <td>0.000215</td>\n",
              "      <td>0.000922</td>\n",
              "      <td>0.000018</td>\n",
              "      <td>5</td>\n",
              "      <td>1</td>\n",
              "      <td>{'n_estimators': 5, 'n_jobs': 1}</td>\n",
              "      <td>0.84375</td>\n",
              "      <td>0.87500</td>\n",
              "      <td>0.87500</td>\n",
              "      <td>1.00000</td>\n",
              "      <td>0.93750</td>\n",
              "      <td>0.90625</td>\n",
              "      <td>0.87500</td>\n",
              "      <td>0.93750</td>\n",
              "      <td>0.875</td>\n",
              "      <td>0.93750</td>\n",
              "      <td>0.906250</td>\n",
              "      <td>0.044194</td>\n",
              "      <td>3</td>\n",
              "    </tr>\n",
              "    <tr>\n",
              "      <th>3</th>\n",
              "      <td>0.017892</td>\n",
              "      <td>0.000600</td>\n",
              "      <td>0.102412</td>\n",
              "      <td>0.000383</td>\n",
              "      <td>5</td>\n",
              "      <td>-1</td>\n",
              "      <td>{'n_estimators': 5, 'n_jobs': -1}</td>\n",
              "      <td>0.84375</td>\n",
              "      <td>0.87500</td>\n",
              "      <td>0.87500</td>\n",
              "      <td>1.00000</td>\n",
              "      <td>0.93750</td>\n",
              "      <td>0.90625</td>\n",
              "      <td>0.87500</td>\n",
              "      <td>0.93750</td>\n",
              "      <td>0.875</td>\n",
              "      <td>0.93750</td>\n",
              "      <td>0.906250</td>\n",
              "      <td>0.044194</td>\n",
              "      <td>3</td>\n",
              "    </tr>\n",
              "    <tr>\n",
              "      <th>4</th>\n",
              "      <td>0.014265</td>\n",
              "      <td>0.001186</td>\n",
              "      <td>0.001394</td>\n",
              "      <td>0.000224</td>\n",
              "      <td>10</td>\n",
              "      <td>1</td>\n",
              "      <td>{'n_estimators': 10, 'n_jobs': 1}</td>\n",
              "      <td>0.81250</td>\n",
              "      <td>0.84375</td>\n",
              "      <td>0.87500</td>\n",
              "      <td>1.00000</td>\n",
              "      <td>0.96875</td>\n",
              "      <td>0.81250</td>\n",
              "      <td>0.90625</td>\n",
              "      <td>1.00000</td>\n",
              "      <td>0.875</td>\n",
              "      <td>0.93750</td>\n",
              "      <td>0.903125</td>\n",
              "      <td>0.067676</td>\n",
              "      <td>5</td>\n",
              "    </tr>\n",
              "    <tr>\n",
              "      <th>5</th>\n",
              "      <td>0.030323</td>\n",
              "      <td>0.000753</td>\n",
              "      <td>0.102359</td>\n",
              "      <td>0.000088</td>\n",
              "      <td>10</td>\n",
              "      <td>-1</td>\n",
              "      <td>{'n_estimators': 10, 'n_jobs': -1}</td>\n",
              "      <td>0.81250</td>\n",
              "      <td>0.84375</td>\n",
              "      <td>0.87500</td>\n",
              "      <td>1.00000</td>\n",
              "      <td>0.96875</td>\n",
              "      <td>0.81250</td>\n",
              "      <td>0.90625</td>\n",
              "      <td>1.00000</td>\n",
              "      <td>0.875</td>\n",
              "      <td>0.93750</td>\n",
              "      <td>0.903125</td>\n",
              "      <td>0.067676</td>\n",
              "      <td>5</td>\n",
              "    </tr>\n",
              "    <tr>\n",
              "      <th>6</th>\n",
              "      <td>0.020099</td>\n",
              "      <td>0.000316</td>\n",
              "      <td>0.001677</td>\n",
              "      <td>0.000026</td>\n",
              "      <td>15</td>\n",
              "      <td>1</td>\n",
              "      <td>{'n_estimators': 15, 'n_jobs': 1}</td>\n",
              "      <td>0.84375</td>\n",
              "      <td>0.84375</td>\n",
              "      <td>0.90625</td>\n",
              "      <td>1.00000</td>\n",
              "      <td>0.96875</td>\n",
              "      <td>0.87500</td>\n",
              "      <td>0.90625</td>\n",
              "      <td>1.00000</td>\n",
              "      <td>0.875</td>\n",
              "      <td>0.93750</td>\n",
              "      <td>0.915625</td>\n",
              "      <td>0.055989</td>\n",
              "      <td>1</td>\n",
              "    </tr>\n",
              "    <tr>\n",
              "      <th>7</th>\n",
              "      <td>0.041749</td>\n",
              "      <td>0.000968</td>\n",
              "      <td>0.102358</td>\n",
              "      <td>0.000155</td>\n",
              "      <td>15</td>\n",
              "      <td>-1</td>\n",
              "      <td>{'n_estimators': 15, 'n_jobs': -1}</td>\n",
              "      <td>0.84375</td>\n",
              "      <td>0.84375</td>\n",
              "      <td>0.90625</td>\n",
              "      <td>1.00000</td>\n",
              "      <td>0.96875</td>\n",
              "      <td>0.87500</td>\n",
              "      <td>0.90625</td>\n",
              "      <td>1.00000</td>\n",
              "      <td>0.875</td>\n",
              "      <td>0.93750</td>\n",
              "      <td>0.915625</td>\n",
              "      <td>0.055989</td>\n",
              "      <td>1</td>\n",
              "    </tr>\n",
              "    <tr>\n",
              "      <th>8</th>\n",
              "      <td>0.026406</td>\n",
              "      <td>0.000309</td>\n",
              "      <td>0.002047</td>\n",
              "      <td>0.000052</td>\n",
              "      <td>20</td>\n",
              "      <td>1</td>\n",
              "      <td>{'n_estimators': 20, 'n_jobs': 1}</td>\n",
              "      <td>0.84375</td>\n",
              "      <td>0.81250</td>\n",
              "      <td>0.87500</td>\n",
              "      <td>0.96875</td>\n",
              "      <td>0.96875</td>\n",
              "      <td>0.87500</td>\n",
              "      <td>0.87500</td>\n",
              "      <td>1.00000</td>\n",
              "      <td>0.875</td>\n",
              "      <td>0.93750</td>\n",
              "      <td>0.903125</td>\n",
              "      <td>0.058380</td>\n",
              "      <td>5</td>\n",
              "    </tr>\n",
              "    <tr>\n",
              "      <th>9</th>\n",
              "      <td>0.047965</td>\n",
              "      <td>0.002149</td>\n",
              "      <td>0.102377</td>\n",
              "      <td>0.000103</td>\n",
              "      <td>20</td>\n",
              "      <td>-1</td>\n",
              "      <td>{'n_estimators': 20, 'n_jobs': -1}</td>\n",
              "      <td>0.84375</td>\n",
              "      <td>0.81250</td>\n",
              "      <td>0.87500</td>\n",
              "      <td>0.96875</td>\n",
              "      <td>0.96875</td>\n",
              "      <td>0.87500</td>\n",
              "      <td>0.87500</td>\n",
              "      <td>1.00000</td>\n",
              "      <td>0.875</td>\n",
              "      <td>0.93750</td>\n",
              "      <td>0.903125</td>\n",
              "      <td>0.058380</td>\n",
              "      <td>5</td>\n",
              "    </tr>\n",
              "  </tbody>\n",
              "</table>\n",
              "</div>"
            ],
            "text/plain": [
              "   mean_fit_time  std_fit_time  ...  std_test_score  rank_test_score\n",
              "0       0.002740      0.000973  ...        0.049312                9\n",
              "1       0.102577      0.208741  ...        0.049312                9\n",
              "2       0.007233      0.000215  ...        0.044194                3\n",
              "3       0.017892      0.000600  ...        0.044194                3\n",
              "4       0.014265      0.001186  ...        0.067676                5\n",
              "5       0.030323      0.000753  ...        0.067676                5\n",
              "6       0.020099      0.000316  ...        0.055989                1\n",
              "7       0.041749      0.000968  ...        0.055989                1\n",
              "8       0.026406      0.000309  ...        0.058380                5\n",
              "9       0.047965      0.002149  ...        0.058380                5\n",
              "\n",
              "[10 rows x 20 columns]"
            ]
          },
          "metadata": {
            "tags": []
          },
          "execution_count": 16
        }
      ]
    },
    {
      "cell_type": "markdown",
      "metadata": {
        "id": "iG9Z9mRjB8Br",
        "colab_type": "text"
      },
      "source": [
        "Zielmetrik in Abhängigkeit von einem Hyperparameter\n",
        "\n",
        "Focus on 'param_n_estimators' and 'mean_test_score'."
      ]
    },
    {
      "cell_type": "code",
      "metadata": {
        "id": "o8dr77uwB-ZO",
        "colab_type": "code",
        "outputId": "d2d0270c-6056-4179-c1c4-4d357cebf449",
        "colab": {
          "base_uri": "https://localhost:8080/",
          "height": 359
        }
      },
      "source": [
        "plotdata = Data_rf[['param_n_estimators','param_n_jobs', 'mean_test_score', 'rank_test_score']]\n",
        "plotdata"
      ],
      "execution_count": 0,
      "outputs": [
        {
          "output_type": "execute_result",
          "data": {
            "text/html": [
              "<div>\n",
              "<style scoped>\n",
              "    .dataframe tbody tr th:only-of-type {\n",
              "        vertical-align: middle;\n",
              "    }\n",
              "\n",
              "    .dataframe tbody tr th {\n",
              "        vertical-align: top;\n",
              "    }\n",
              "\n",
              "    .dataframe thead th {\n",
              "        text-align: right;\n",
              "    }\n",
              "</style>\n",
              "<table border=\"1\" class=\"dataframe\">\n",
              "  <thead>\n",
              "    <tr style=\"text-align: right;\">\n",
              "      <th></th>\n",
              "      <th>param_n_estimators</th>\n",
              "      <th>param_n_jobs</th>\n",
              "      <th>mean_test_score</th>\n",
              "      <th>rank_test_score</th>\n",
              "    </tr>\n",
              "  </thead>\n",
              "  <tbody>\n",
              "    <tr>\n",
              "      <th>0</th>\n",
              "      <td>1</td>\n",
              "      <td>1</td>\n",
              "      <td>0.878125</td>\n",
              "      <td>9</td>\n",
              "    </tr>\n",
              "    <tr>\n",
              "      <th>1</th>\n",
              "      <td>1</td>\n",
              "      <td>-1</td>\n",
              "      <td>0.878125</td>\n",
              "      <td>9</td>\n",
              "    </tr>\n",
              "    <tr>\n",
              "      <th>2</th>\n",
              "      <td>5</td>\n",
              "      <td>1</td>\n",
              "      <td>0.906250</td>\n",
              "      <td>3</td>\n",
              "    </tr>\n",
              "    <tr>\n",
              "      <th>3</th>\n",
              "      <td>5</td>\n",
              "      <td>-1</td>\n",
              "      <td>0.906250</td>\n",
              "      <td>3</td>\n",
              "    </tr>\n",
              "    <tr>\n",
              "      <th>4</th>\n",
              "      <td>10</td>\n",
              "      <td>1</td>\n",
              "      <td>0.903125</td>\n",
              "      <td>5</td>\n",
              "    </tr>\n",
              "    <tr>\n",
              "      <th>5</th>\n",
              "      <td>10</td>\n",
              "      <td>-1</td>\n",
              "      <td>0.903125</td>\n",
              "      <td>5</td>\n",
              "    </tr>\n",
              "    <tr>\n",
              "      <th>6</th>\n",
              "      <td>15</td>\n",
              "      <td>1</td>\n",
              "      <td>0.915625</td>\n",
              "      <td>1</td>\n",
              "    </tr>\n",
              "    <tr>\n",
              "      <th>7</th>\n",
              "      <td>15</td>\n",
              "      <td>-1</td>\n",
              "      <td>0.915625</td>\n",
              "      <td>1</td>\n",
              "    </tr>\n",
              "    <tr>\n",
              "      <th>8</th>\n",
              "      <td>20</td>\n",
              "      <td>1</td>\n",
              "      <td>0.903125</td>\n",
              "      <td>5</td>\n",
              "    </tr>\n",
              "    <tr>\n",
              "      <th>9</th>\n",
              "      <td>20</td>\n",
              "      <td>-1</td>\n",
              "      <td>0.903125</td>\n",
              "      <td>5</td>\n",
              "    </tr>\n",
              "  </tbody>\n",
              "</table>\n",
              "</div>"
            ],
            "text/plain": [
              "  param_n_estimators param_n_jobs  mean_test_score  rank_test_score\n",
              "0                  1            1         0.878125                9\n",
              "1                  1           -1         0.878125                9\n",
              "2                  5            1         0.906250                3\n",
              "3                  5           -1         0.906250                3\n",
              "4                 10            1         0.903125                5\n",
              "5                 10           -1         0.903125                5\n",
              "6                 15            1         0.915625                1\n",
              "7                 15           -1         0.915625                1\n",
              "8                 20            1         0.903125                5\n",
              "9                 20           -1         0.903125                5"
            ]
          },
          "metadata": {
            "tags": []
          },
          "execution_count": 17
        }
      ]
    },
    {
      "cell_type": "code",
      "metadata": {
        "id": "l36fNRFllcPv",
        "colab_type": "code",
        "outputId": "d388662a-10f5-462a-cee7-d9aee70eefc0",
        "colab": {
          "base_uri": "https://localhost:8080/",
          "height": 445
        }
      },
      "source": [
        "x=plotdata['param_n_estimators']\n",
        "y=plotdata['mean_test_score']\n",
        "\n",
        "\n",
        "fig = plt.figure(figsize=(5,3),dpi=100)\n",
        "fig.suptitle('Test Score for Parameter settings', fontsize=12)\n",
        "ax=fig.add_subplot(1,1,1)\n",
        "ax.plot(x, y, 'go-', linewidth = 2)\n",
        "\n",
        "#ax.legend(loc='center right',fontsize=15, numpoints=1, framealpha=0.5)\n",
        "ax.set_xlabel('n_estimators', fontsize=15)\n",
        "ax.set_ylabel('mean test score', fontsize=15)\n",
        "ax.set_xlim(0,22)\n",
        "ax.set_xticks(np.arange(0,22,4))"
      ],
      "execution_count": 0,
      "outputs": [
        {
          "output_type": "execute_result",
          "data": {
            "text/plain": [
              "[<matplotlib.axis.XTick at 0x7f19e6b672e8>,\n",
              " <matplotlib.axis.XTick at 0x7f19e6b67cf8>,\n",
              " <matplotlib.axis.XTick at 0x7f19e6b67f28>,\n",
              " <matplotlib.axis.XTick at 0x7f19e6c391d0>,\n",
              " <matplotlib.axis.XTick at 0x7f19e6c6e470>,\n",
              " <matplotlib.axis.XTick at 0x7f19e6c6e940>]"
            ]
          },
          "metadata": {
            "tags": []
          },
          "execution_count": 18
        },
        {
          "output_type": "display_data",
          "data": {
            "image/png": "[encoded data removed]",
            "text/plain": [
              "<Figure size 500x300 with 1 Axes>"
            ]
          },
          "metadata": {
            "tags": [],
            "needs_background": "light"
          }
        }
      ]
    },
    {
      "cell_type": "markdown",
      "metadata": {
        "id": "50DC4iZ_l_Ln",
        "colab_type": "text"
      },
      "source": [
        "scoring='accuracy': similar with \n",
        "sklearn.metrics.accuracy_score(y_true, y_pred, normalize=True, sample_weight=None)\n",
        "Accuracy classification score.\n",
        "In multilabel classification, this function computes subset accuracy: the set of labels predicted for a sample must exactly match the corresponding set of labels in y_true."
      ]
    },
    {
      "cell_type": "code",
      "metadata": {
        "id": "TAfPisM-rKGs",
        "colab_type": "code",
        "outputId": "4e891f1f-cd99-49fa-d60b-4885b3c36828",
        "colab": {
          "base_uri": "https://localhost:8080/",
          "height": 34
        }
      },
      "source": [
        "best_parameters_rf"
      ],
      "execution_count": 0,
      "outputs": [
        {
          "output_type": "execute_result",
          "data": {
            "text/plain": [
              "{'n_estimators': 15, 'n_jobs': 1}"
            ]
          },
          "metadata": {
            "tags": []
          },
          "execution_count": 19
        }
      ]
    },
    {
      "cell_type": "code",
      "metadata": {
        "id": "9xsj68XKrNGQ",
        "colab_type": "code",
        "outputId": "04d7aad3-8bd9-485b-faf3-ec4e88af2304",
        "colab": {
          "base_uri": "https://localhost:8080/",
          "height": 34
        }
      },
      "source": [
        "best_score_rf"
      ],
      "execution_count": 0,
      "outputs": [
        {
          "output_type": "execute_result",
          "data": {
            "text/plain": [
              "0.915625"
            ]
          },
          "metadata": {
            "tags": []
          },
          "execution_count": 20
        }
      ]
    },
    {
      "cell_type": "markdown",
      "metadata": {
        "id": "03DUgzaomTpL",
        "colab_type": "text"
      },
      "source": [
        "# Logistic Regression"
      ]
    },
    {
      "cell_type": "markdown",
      "metadata": {
        "id": "pfwn9pWfpVUM",
        "colab_type": "text"
      },
      "source": [
        "\n",
        "\n",
        "1.   C: Inverse of regularization strength; must be a positive float. Like in support vector machines, smaller values specify stronger regularization.\n",
        "2.   penalty{‘l1’, ‘l2’}: Used to specify the norm used in the penalization. \n",
        "\n",
        "\n"
      ]
    },
    {
      "cell_type": "code",
      "metadata": {
        "id": "z7h0AeXHmc85",
        "colab_type": "code",
        "colab": {}
      },
      "source": [
        "from sklearn.linear_model import LogisticRegression"
      ],
      "execution_count": 0,
      "outputs": []
    },
    {
      "cell_type": "code",
      "metadata": {
        "id": "VDVk3yirdeOI",
        "colab_type": "code",
        "outputId": "5f29a3d9-abf0-47b5-e93e-79659f9d5b3c",
        "colab": {
          "base_uri": "https://localhost:8080/",
          "height": 483
        }
      },
      "source": [
        "param_grid_lr = [{\"C\":np.logspace(-3,3,7), \"penalty\":[\"l1\",\"l2\"]}]\n",
        "#numpy.logspace(start, stop, num), base = 10\n",
        "search_lr = GridSearchCV(LogisticRegression(solver='liblinear', random_state=1), param_grid_lr, scoring='accuracy', cv=10, n_jobs=-1)\n",
        "search_lr = search_lr.fit(X_train, y_train)\n",
        "best_score_lr = search_lr.best_score_\n",
        "best_parameters_lr = search_lr.best_params_\n",
        "scores_lr = search_lr.cv_results_\n",
        "Data_lr = pd.DataFrame(scores_lr)\n",
        "# Data_lr\n",
        "plotdata = Data_lr[['params', 'param_C' , 'param_penalty', 'mean_test_score', 'mean_score_time']]\n",
        "plotdata"
      ],
      "execution_count": 0,
      "outputs": [
        {
          "output_type": "execute_result",
          "data": {
            "text/html": [
              "<div>\n",
              "<style scoped>\n",
              "    .dataframe tbody tr th:only-of-type {\n",
              "        vertical-align: middle;\n",
              "    }\n",
              "\n",
              "    .dataframe tbody tr th {\n",
              "        vertical-align: top;\n",
              "    }\n",
              "\n",
              "    .dataframe thead th {\n",
              "        text-align: right;\n",
              "    }\n",
              "</style>\n",
              "<table border=\"1\" class=\"dataframe\">\n",
              "  <thead>\n",
              "    <tr style=\"text-align: right;\">\n",
              "      <th></th>\n",
              "      <th>params</th>\n",
              "      <th>param_C</th>\n",
              "      <th>param_penalty</th>\n",
              "      <th>mean_test_score</th>\n",
              "      <th>mean_score_time</th>\n",
              "    </tr>\n",
              "  </thead>\n",
              "  <tbody>\n",
              "    <tr>\n",
              "      <th>0</th>\n",
              "      <td>{'C': 0.001, 'penalty': 'l1'}</td>\n",
              "      <td>0.001</td>\n",
              "      <td>l1</td>\n",
              "      <td>0.653125</td>\n",
              "      <td>0.000439</td>\n",
              "    </tr>\n",
              "    <tr>\n",
              "      <th>1</th>\n",
              "      <td>{'C': 0.001, 'penalty': 'l2'}</td>\n",
              "      <td>0.001</td>\n",
              "      <td>l2</td>\n",
              "      <td>0.828125</td>\n",
              "      <td>0.001033</td>\n",
              "    </tr>\n",
              "    <tr>\n",
              "      <th>2</th>\n",
              "      <td>{'C': 0.01, 'penalty': 'l1'}</td>\n",
              "      <td>0.01</td>\n",
              "      <td>l1</td>\n",
              "      <td>0.653125</td>\n",
              "      <td>0.001018</td>\n",
              "    </tr>\n",
              "    <tr>\n",
              "      <th>3</th>\n",
              "      <td>{'C': 0.01, 'penalty': 'l2'}</td>\n",
              "      <td>0.01</td>\n",
              "      <td>l2</td>\n",
              "      <td>0.834375</td>\n",
              "      <td>0.000426</td>\n",
              "    </tr>\n",
              "    <tr>\n",
              "      <th>4</th>\n",
              "      <td>{'C': 0.1, 'penalty': 'l1'}</td>\n",
              "      <td>0.1</td>\n",
              "      <td>l1</td>\n",
              "      <td>0.853125</td>\n",
              "      <td>0.000453</td>\n",
              "    </tr>\n",
              "    <tr>\n",
              "      <th>5</th>\n",
              "      <td>{'C': 0.1, 'penalty': 'l2'}</td>\n",
              "      <td>0.1</td>\n",
              "      <td>l2</td>\n",
              "      <td>0.840625</td>\n",
              "      <td>0.000899</td>\n",
              "    </tr>\n",
              "    <tr>\n",
              "      <th>6</th>\n",
              "      <td>{'C': 1.0, 'penalty': 'l1'}</td>\n",
              "      <td>1</td>\n",
              "      <td>l1</td>\n",
              "      <td>0.843750</td>\n",
              "      <td>0.000393</td>\n",
              "    </tr>\n",
              "    <tr>\n",
              "      <th>7</th>\n",
              "      <td>{'C': 1.0, 'penalty': 'l2'}</td>\n",
              "      <td>1</td>\n",
              "      <td>l2</td>\n",
              "      <td>0.840625</td>\n",
              "      <td>0.000421</td>\n",
              "    </tr>\n",
              "    <tr>\n",
              "      <th>8</th>\n",
              "      <td>{'C': 10.0, 'penalty': 'l1'}</td>\n",
              "      <td>10</td>\n",
              "      <td>l1</td>\n",
              "      <td>0.840625</td>\n",
              "      <td>0.000427</td>\n",
              "    </tr>\n",
              "    <tr>\n",
              "      <th>9</th>\n",
              "      <td>{'C': 10.0, 'penalty': 'l2'}</td>\n",
              "      <td>10</td>\n",
              "      <td>l2</td>\n",
              "      <td>0.840625</td>\n",
              "      <td>0.000413</td>\n",
              "    </tr>\n",
              "    <tr>\n",
              "      <th>10</th>\n",
              "      <td>{'C': 100.0, 'penalty': 'l1'}</td>\n",
              "      <td>100</td>\n",
              "      <td>l1</td>\n",
              "      <td>0.840625</td>\n",
              "      <td>0.000401</td>\n",
              "    </tr>\n",
              "    <tr>\n",
              "      <th>11</th>\n",
              "      <td>{'C': 100.0, 'penalty': 'l2'}</td>\n",
              "      <td>100</td>\n",
              "      <td>l2</td>\n",
              "      <td>0.840625</td>\n",
              "      <td>0.000426</td>\n",
              "    </tr>\n",
              "    <tr>\n",
              "      <th>12</th>\n",
              "      <td>{'C': 1000.0, 'penalty': 'l1'}</td>\n",
              "      <td>1000</td>\n",
              "      <td>l1</td>\n",
              "      <td>0.840625</td>\n",
              "      <td>0.000588</td>\n",
              "    </tr>\n",
              "    <tr>\n",
              "      <th>13</th>\n",
              "      <td>{'C': 1000.0, 'penalty': 'l2'}</td>\n",
              "      <td>1000</td>\n",
              "      <td>l2</td>\n",
              "      <td>0.840625</td>\n",
              "      <td>0.000604</td>\n",
              "    </tr>\n",
              "  </tbody>\n",
              "</table>\n",
              "</div>"
            ],
            "text/plain": [
              "                            params param_C  ... mean_test_score  mean_score_time\n",
              "0    {'C': 0.001, 'penalty': 'l1'}   0.001  ...        0.653125         0.000439\n",
              "1    {'C': 0.001, 'penalty': 'l2'}   0.001  ...        0.828125         0.001033\n",
              "2     {'C': 0.01, 'penalty': 'l1'}    0.01  ...        0.653125         0.001018\n",
              "3     {'C': 0.01, 'penalty': 'l2'}    0.01  ...        0.834375         0.000426\n",
              "4      {'C': 0.1, 'penalty': 'l1'}     0.1  ...        0.853125         0.000453\n",
              "5      {'C': 0.1, 'penalty': 'l2'}     0.1  ...        0.840625         0.000899\n",
              "6      {'C': 1.0, 'penalty': 'l1'}       1  ...        0.843750         0.000393\n",
              "7      {'C': 1.0, 'penalty': 'l2'}       1  ...        0.840625         0.000421\n",
              "8     {'C': 10.0, 'penalty': 'l1'}      10  ...        0.840625         0.000427\n",
              "9     {'C': 10.0, 'penalty': 'l2'}      10  ...        0.840625         0.000413\n",
              "10   {'C': 100.0, 'penalty': 'l1'}     100  ...        0.840625         0.000401\n",
              "11   {'C': 100.0, 'penalty': 'l2'}     100  ...        0.840625         0.000426\n",
              "12  {'C': 1000.0, 'penalty': 'l1'}    1000  ...        0.840625         0.000588\n",
              "13  {'C': 1000.0, 'penalty': 'l2'}    1000  ...        0.840625         0.000604\n",
              "\n",
              "[14 rows x 5 columns]"
            ]
          },
          "metadata": {
            "tags": []
          },
          "execution_count": 22
        }
      ]
    },
    {
      "cell_type": "code",
      "metadata": {
        "id": "DS69vpgAn2a_",
        "colab_type": "code",
        "outputId": "86121e08-1d25-4c96-f51f-30317e9f7fb6",
        "colab": {
          "base_uri": "https://localhost:8080/",
          "height": 347
        }
      },
      "source": [
        "x1=plotdata['param_C'][plotdata['param_penalty']=='l1']\n",
        "y1=plotdata['mean_test_score'][plotdata['param_penalty']=='l1']\n",
        "\n",
        "x2=plotdata['param_C'][plotdata['param_penalty']=='l2']\n",
        "y2=plotdata['mean_test_score'][plotdata['param_penalty']=='l2']\n",
        "\n",
        "\n",
        "fig = plt.figure(figsize=(5,3),dpi=100)\n",
        "fig.suptitle('correlation between parameter C and mean test score for penalty l1 and l2', fontsize=12)\n",
        "ax=fig.add_subplot(1,1,1)\n",
        "ax.plot(x1, y1, 'go', label='penalty=l1', linewidth = 2)\n",
        "ax.plot(x2, y2, 'r^', label='penalty=l2', linewidth = 2)\n",
        "\n",
        "ax.legend(loc='center right',fontsize=15, numpoints=1, framealpha=0.5)\n",
        "ax.set_xlabel('parameter C', fontsize=15)\n",
        "ax.set_ylabel('mean test score', fontsize=15)\n",
        "ax.set_xscale('log')#. np.logspace(-3,3,7)\n",
        "ax.get_xaxis().set_tick_params(which='minor',size=0)\n"
      ],
      "execution_count": 0,
      "outputs": [
        {
          "output_type": "display_data",
          "data": {
            "image/png": "[encoded data removed]",
            "text/plain": [
              "<Figure size 500x300 with 1 Axes>"
            ]
          },
          "metadata": {
            "tags": [],
            "needs_background": "light"
          }
        }
      ]
    },
    {
      "cell_type": "code",
      "metadata": {
        "id": "Ewu0tXdYrSAt",
        "colab_type": "code",
        "outputId": "a8aa417f-b9cc-42e1-a65a-76a6dc2f14d1",
        "colab": {
          "base_uri": "https://localhost:8080/",
          "height": 34
        }
      },
      "source": [
        "best_parameters_rf"
      ],
      "execution_count": 0,
      "outputs": [
        {
          "output_type": "execute_result",
          "data": {
            "text/plain": [
              "{'n_estimators': 15, 'n_jobs': 1}"
            ]
          },
          "metadata": {
            "tags": []
          },
          "execution_count": 24
        }
      ]
    },
    {
      "cell_type": "code",
      "metadata": {
        "id": "kisKhkn5r2-A",
        "colab_type": "code",
        "outputId": "03af8e1c-bd3a-4389-f939-f86275d2512f",
        "colab": {
          "base_uri": "https://localhost:8080/",
          "height": 34
        }
      },
      "source": [
        "best_score_lr"
      ],
      "execution_count": 0,
      "outputs": [
        {
          "output_type": "execute_result",
          "data": {
            "text/plain": [
              "0.853125"
            ]
          },
          "metadata": {
            "tags": []
          },
          "execution_count": 25
        }
      ]
    },
    {
      "cell_type": "markdown",
      "metadata": {
        "id": "otdTk1_Ftwvq",
        "colab_type": "text"
      },
      "source": [
        "#Comparing all scores "
      ]
    },
    {
      "cell_type": "code",
      "metadata": {
        "id": "Dpxa6ITpvea5",
        "colab_type": "code",
        "outputId": "d67feadb-62d2-4f04-ee51-945229f94618",
        "colab": {
          "base_uri": "https://localhost:8080/",
          "height": 142
        }
      },
      "source": [
        "model = ['SVM','Random Forest','Logistic Regression']\n",
        "best_parameters = [best_parameters_svm, best_parameters_rf, best_parameters_lr]\n",
        "best_score = [best_score_svm, best_score_rf, best_score_lr]\n",
        "pd.DataFrame(np.column_stack([model,best_parameters, best_score ]),columns=['Model', 'best_parameters', 'best_score'])"
      ],
      "execution_count": 0,
      "outputs": [
        {
          "output_type": "execute_result",
          "data": {
            "text/html": [
              "<div>\n",
              "<style scoped>\n",
              "    .dataframe tbody tr th:only-of-type {\n",
              "        vertical-align: middle;\n",
              "    }\n",
              "\n",
              "    .dataframe tbody tr th {\n",
              "        vertical-align: top;\n",
              "    }\n",
              "\n",
              "    .dataframe thead th {\n",
              "        text-align: right;\n",
              "    }\n",
              "</style>\n",
              "<table border=\"1\" class=\"dataframe\">\n",
              "  <thead>\n",
              "    <tr style=\"text-align: right;\">\n",
              "      <th></th>\n",
              "      <th>Model</th>\n",
              "      <th>best_parameters</th>\n",
              "      <th>best_score</th>\n",
              "    </tr>\n",
              "  </thead>\n",
              "  <tbody>\n",
              "    <tr>\n",
              "      <th>0</th>\n",
              "      <td>SVM</td>\n",
              "      <td>{'C': 3, 'gamma': 0.6, 'kernel': 'rbf'}</td>\n",
              "      <td>0.93125</td>\n",
              "    </tr>\n",
              "    <tr>\n",
              "      <th>1</th>\n",
              "      <td>Random Forest</td>\n",
              "      <td>{'n_estimators': 15, 'n_jobs': 1}</td>\n",
              "      <td>0.915625</td>\n",
              "    </tr>\n",
              "    <tr>\n",
              "      <th>2</th>\n",
              "      <td>Logistic Regression</td>\n",
              "      <td>{'C': 0.1, 'penalty': 'l1'}</td>\n",
              "      <td>0.853125</td>\n",
              "    </tr>\n",
              "  </tbody>\n",
              "</table>\n",
              "</div>"
            ],
            "text/plain": [
              "                 Model                          best_parameters best_score\n",
              "0                  SVM  {'C': 3, 'gamma': 0.6, 'kernel': 'rbf'}    0.93125\n",
              "1        Random Forest        {'n_estimators': 15, 'n_jobs': 1}   0.915625\n",
              "2  Logistic Regression              {'C': 0.1, 'penalty': 'l1'}   0.853125"
            ]
          },
          "metadata": {
            "tags": []
          },
          "execution_count": 26
        }
      ]
    },
    {
      "cell_type": "markdown",
      "metadata": {
        "id": "dHPzz16LfOt1",
        "colab_type": "text"
      },
      "source": [
        "We see that the best result could be achieved by the SVM model with the parameters found by the grid search."
      ]
    },
    {
      "cell_type": "markdown",
      "metadata": {
        "id": "OkWlLezUPzgZ",
        "colab_type": "text"
      },
      "source": [
        "#Conclusion"
      ]
    },
    {
      "cell_type": "markdown",
      "metadata": {
        "id": "J0-lWjokQCSj",
        "colab_type": "text"
      },
      "source": [
        "Grid-search is used to find the optimal hyperparameters of a model which results in the most ‘accurate’ predictions. Here I used Grid-Search to build a classification model on Social network ads dataset to search the best model and hyperparameters. \n",
        "A model hyperparameter is a characteristic of a model that is external to the model and whose value cannot be estimated from data. The value of the hyperparameter has to be set before the learning process begins. For example, c in Support Vector Machines, n estimators in Random Forest, c in Logistic Regression, the number of hidden layers in Neural Networks. If we work with ML, it's important and hard to stipulate values for hyper parameters. There are libraries that have been implemented, such as GridSearchCV of the sklearn library, in order to automate this process and make life a little bit easier for ML enthusiasts."
      ]
    }
  ]
}